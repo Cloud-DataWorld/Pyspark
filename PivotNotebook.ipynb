{
 "cells": [
  {
   "cell_type": "code",
   "execution_count": 1,
   "id": "833a99c2",
   "metadata": {},
   "outputs": [],
   "source": [
    "import findspark\n",
    "findspark.init()\n",
    "\n",
    "from pyspark.sql import SparkSession\n",
    "\n",
    "spark = SparkSession.builder.getOrCreate()"
   ]
  },
  {
   "cell_type": "code",
   "execution_count": 5,
   "id": "2a5cc3e1",
   "metadata": {},
   "outputs": [
    {
     "name": "stdout",
     "output_type": "stream",
     "text": [
      "+---+--------+------+---+\n",
      "| id|    name|gender|dep|\n",
      "+---+--------+------+---+\n",
      "|  1|  maheer|  male| IT|\n",
      "|  2|srikanth|  male| IT|\n",
      "|  3|     asi|female| HR|\n",
      "|  4|    Annu|female| IT|\n",
      "|  5|  Shakir|female| IT|\n",
      "|  6| pradeep|  male| HR|\n",
      "|  7|sarfaraj|  male| HR|\n",
      "|  8|  ayesha|female| IT|\n",
      "+---+--------+------+---+\n",
      "\n"
     ]
    }
   ],
   "source": [
    "data = [(1,'maheer','male','IT'),\\\n",
    "        (2,'srikanth','male','IT'),\\\n",
    "       (3,'asi','female','HR'),\\\n",
    "       (4,'Annu','female','IT'),\\\n",
    "       (5,'Shakir','female','IT'),\\\n",
    "       (6,'pradeep','male','HR'),\\\n",
    "       (7,'sarfaraj','male','HR'),\\\n",
    "       (8,'ayesha','female','IT')]\n",
    "\n",
    "schema = ['id','name','gender','dep']\n",
    "\n",
    "df = spark.createDataFrame(data,schema)\n",
    "\n",
    "df.show()"
   ]
  },
  {
   "cell_type": "code",
   "execution_count": 6,
   "id": "bd13582a",
   "metadata": {},
   "outputs": [
    {
     "name": "stdout",
     "output_type": "stream",
     "text": [
      "+---+------+-----+\n",
      "|dep|gender|count|\n",
      "+---+------+-----+\n",
      "| IT|  male|    2|\n",
      "| HR|female|    1|\n",
      "| IT|female|    3|\n",
      "| HR|  male|    2|\n",
      "+---+------+-----+\n",
      "\n"
     ]
    }
   ],
   "source": [
    "df.groupBy('dep','gender').count().show()"
   ]
  },
  {
   "cell_type": "code",
   "execution_count": 7,
   "id": "e760de6d",
   "metadata": {},
   "outputs": [
    {
     "name": "stdout",
     "output_type": "stream",
     "text": [
      "+---+------+----+\n",
      "|dep|female|male|\n",
      "+---+------+----+\n",
      "| HR|     1|   2|\n",
      "| IT|     3|   2|\n",
      "+---+------+----+\n",
      "\n"
     ]
    }
   ],
   "source": [
    "df.groupBy('dep').pivot('gender').count().show()"
   ]
  },
  {
   "cell_type": "code",
   "execution_count": 8,
   "id": "f13785d3",
   "metadata": {},
   "outputs": [
    {
     "name": "stdout",
     "output_type": "stream",
     "text": [
      "+---+----+\n",
      "|dep|male|\n",
      "+---+----+\n",
      "| HR|   2|\n",
      "| IT|   2|\n",
      "+---+----+\n",
      "\n"
     ]
    }
   ],
   "source": [
    "df.groupBy('dep').pivot('gender',['male']).count().show()"
   ]
  },
  {
   "cell_type": "code",
   "execution_count": 9,
   "id": "28635fac",
   "metadata": {},
   "outputs": [
    {
     "name": "stdout",
     "output_type": "stream",
     "text": [
      "+-------+----+------+\n",
      "|    dep|male|female|\n",
      "+-------+----+------+\n",
      "|     IT|   8|     5|\n",
      "|Payroll|   3|     2|\n",
      "|     HR|   2|     4|\n",
      "+-------+----+------+\n",
      "\n"
     ]
    }
   ],
   "source": [
    "#unpivot\n",
    "data = [('IT',8,5),\\\n",
    "         ('Payroll',3,2),\\\n",
    "          ('HR',2,4)]\n",
    "\n",
    "schema = ['dep','male','female']\n",
    "\n",
    "df = spark.createDataFrame(data,schema)\n",
    "\n",
    "df.show()"
   ]
  },
  {
   "cell_type": "code",
   "execution_count": 10,
   "id": "51d167de",
   "metadata": {},
   "outputs": [],
   "source": [
    "from pyspark.sql.functions import expr\n",
    "\n"
   ]
  },
  {
   "cell_type": "code",
   "execution_count": 11,
   "id": "a0cb8e7b",
   "metadata": {},
   "outputs": [
    {
     "name": "stdout",
     "output_type": "stream",
     "text": [
      "+-------+------+-----+\n",
      "|    dep|gender|count|\n",
      "+-------+------+-----+\n",
      "|     IT|  MALE|    8|\n",
      "|     IT|FEMALE|    5|\n",
      "|Payroll|  MALE|    3|\n",
      "|Payroll|FEMALE|    2|\n",
      "|     HR|  MALE|    2|\n",
      "|     HR|FEMALE|    4|\n",
      "+-------+------+-----+\n",
      "\n"
     ]
    }
   ],
   "source": [
    "unpivotdf = df.select('dep',expr(\"stack(2,'MALE',male,'FEMALE',female) as (gender,count)\"))\n",
    "\n",
    "unpivotdf.show()"
   ]
  },
  {
   "cell_type": "code",
   "execution_count": null,
   "id": "cc46c5f1",
   "metadata": {},
   "outputs": [],
   "source": []
  }
 ],
 "metadata": {
  "kernelspec": {
   "display_name": "Python 3 (ipykernel)",
   "language": "python",
   "name": "python3"
  },
  "language_info": {
   "codemirror_mode": {
    "name": "ipython",
    "version": 3
   },
   "file_extension": ".py",
   "mimetype": "text/x-python",
   "name": "python",
   "nbconvert_exporter": "python",
   "pygments_lexer": "ipython3",
   "version": "3.9.13"
  }
 },
 "nbformat": 4,
 "nbformat_minor": 5
}
