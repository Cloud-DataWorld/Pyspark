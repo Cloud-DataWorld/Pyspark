{
 "cells": [
  {
   "cell_type": "code",
   "execution_count": 1,
   "id": "0067f636",
   "metadata": {},
   "outputs": [],
   "source": [
    "import findspark\n",
    "findspark.init()"
   ]
  },
  {
   "cell_type": "code",
   "execution_count": 2,
   "id": "bde61035",
   "metadata": {},
   "outputs": [],
   "source": [
    "from pyspark.sql import SparkSession\n",
    "spark = SparkSession.builder.getOrCreate()"
   ]
  },
  {
   "cell_type": "code",
   "execution_count": 7,
   "id": "c0d94b66",
   "metadata": {},
   "outputs": [
    {
     "name": "stdout",
     "output_type": "stream",
     "text": [
      "+--------+-----------------------------+\n",
      "|Name    |Properties                   |\n",
      "+--------+-----------------------------+\n",
      "|srikanth|{eye -> brown, hair -> black}|\n",
      "|Manvith |{eye -> blue, hair -> black} |\n",
      "+--------+-----------------------------+\n",
      "\n",
      "root\n",
      " |-- Name: string (nullable = true)\n",
      " |-- Properties: map (nullable = true)\n",
      " |    |-- key: string\n",
      " |    |-- value: string (valueContainsNull = true)\n",
      "\n"
     ]
    }
   ],
   "source": [
    "data = [('srikanth',{'hair':'black','eye':'brown'}),('Manvith',{'hair':'black','eye':'blue'})]\n",
    "\n",
    "schema = ['Name','Properties']\n",
    "\n",
    "df = spark.createDataFrame(data,schema)\n",
    "\n",
    "df.show(truncate=False)\n",
    "\n",
    "df.printSchema()"
   ]
  },
  {
   "cell_type": "code",
   "execution_count": 8,
   "id": "b8429c88",
   "metadata": {},
   "outputs": [
    {
     "name": "stdout",
     "output_type": "stream",
     "text": [
      "root\n",
      " |-- Name: string (nullable = true)\n",
      " |-- Properties: map (nullable = true)\n",
      " |    |-- key: string\n",
      " |    |-- value: string (valueContainsNull = true)\n",
      "\n",
      "+--------+-----------------------------+\n",
      "|Name    |Properties                   |\n",
      "+--------+-----------------------------+\n",
      "|srikanth|{eye -> brown, hair -> black}|\n",
      "|Manvith |{eye -> blue, hair -> black} |\n",
      "+--------+-----------------------------+\n",
      "\n"
     ]
    }
   ],
   "source": [
    "from pyspark.sql.types import StructType,StructField,StringType,IntegerType,MapType\n",
    "\n",
    "schema = StructType([\\\n",
    "                    StructField('Name',dataType=StringType()),\\\n",
    "                    StructField('Properties',dataType=MapType(StringType(),StringType()))])\n",
    "\n",
    "\n",
    "df1= spark.createDataFrame(data,schema)\n",
    "\n",
    "df1.printSchema()\n",
    "\n",
    "df1.show(truncate=False)"
   ]
  },
  {
   "cell_type": "code",
   "execution_count": 9,
   "id": "5238a86e",
   "metadata": {},
   "outputs": [
    {
     "data": {
      "text/plain": [
       "DataFrame[Name: string, Properties: map<string,string>]"
      ]
     },
     "metadata": {},
     "output_type": "display_data"
    }
   ],
   "source": [
    "#access maptype elements\n",
    "\n",
    "display(df1)"
   ]
  },
  {
   "cell_type": "code",
   "execution_count": 12,
   "id": "58194173",
   "metadata": {},
   "outputs": [
    {
     "name": "stdout",
     "output_type": "stream",
     "text": [
      "+--------+-----------------------------+-----+\n",
      "|Name    |Properties                   |Hair |\n",
      "+--------+-----------------------------+-----+\n",
      "|srikanth|{eye -> brown, hair -> black}|black|\n",
      "|Manvith |{eye -> blue, hair -> black} |black|\n",
      "+--------+-----------------------------+-----+\n",
      "\n",
      "root\n",
      " |-- Name: string (nullable = true)\n",
      " |-- Properties: map (nullable = true)\n",
      " |    |-- key: string\n",
      " |    |-- value: string (valueContainsNull = true)\n",
      " |-- Hair: string (nullable = true)\n",
      "\n"
     ]
    }
   ],
   "source": [
    "df2= df.withColumn('Hair',df.Properties['hair'])\n",
    "df2.show(truncate=False)\n",
    "df2.printSchema()"
   ]
  },
  {
   "cell_type": "code",
   "execution_count": 14,
   "id": "1ac40f82",
   "metadata": {},
   "outputs": [
    {
     "name": "stdout",
     "output_type": "stream",
     "text": [
      "+--------+-----------------------------+-----+\n",
      "|Name    |Properties                   |Eye  |\n",
      "+--------+-----------------------------+-----+\n",
      "|srikanth|{eye -> brown, hair -> black}|brown|\n",
      "|Manvith |{eye -> blue, hair -> black} |blue |\n",
      "+--------+-----------------------------+-----+\n",
      "\n",
      "root\n",
      " |-- Name: string (nullable = true)\n",
      " |-- Properties: map (nullable = true)\n",
      " |    |-- key: string\n",
      " |    |-- value: string (valueContainsNull = true)\n",
      " |-- Eye: string (nullable = true)\n",
      "\n"
     ]
    }
   ],
   "source": [
    "df3 = df.withColumn('Eye',df.Properties.getItem('eye'))\n",
    "df3.show(truncate=False)\n",
    "df3.printSchema()"
   ]
  },
  {
   "cell_type": "code",
   "execution_count": null,
   "id": "1874050e",
   "metadata": {},
   "outputs": [],
   "source": [
    "#explode()\n",
    "#map_keys()\n",
    "#map_values()"
   ]
  },
  {
   "cell_type": "code",
   "execution_count": 15,
   "id": "4893ea3f",
   "metadata": {},
   "outputs": [
    {
     "name": "stdout",
     "output_type": "stream",
     "text": [
      "+--------+-----------------------------+\n",
      "|Name    |Properties                   |\n",
      "+--------+-----------------------------+\n",
      "|srikanth|{eye -> brown, hair -> black}|\n",
      "|Manvith |{eye -> blue, hair -> black} |\n",
      "+--------+-----------------------------+\n",
      "\n"
     ]
    }
   ],
   "source": [
    "df.show(truncate=False)"
   ]
  },
  {
   "cell_type": "code",
   "execution_count": 16,
   "id": "11e6c0da",
   "metadata": {},
   "outputs": [
    {
     "name": "stdout",
     "output_type": "stream",
     "text": [
      "+--------+--------------------+----+-----+\n",
      "|    name|          Properties| key|value|\n",
      "+--------+--------------------+----+-----+\n",
      "|srikanth|{eye -> brown, ha...| eye|brown|\n",
      "|srikanth|{eye -> brown, ha...|hair|black|\n",
      "| Manvith|{eye -> blue, hai...| eye| blue|\n",
      "| Manvith|{eye -> blue, hai...|hair|black|\n",
      "+--------+--------------------+----+-----+\n",
      "\n",
      "root\n",
      " |-- name: string (nullable = true)\n",
      " |-- Properties: map (nullable = true)\n",
      " |    |-- key: string\n",
      " |    |-- value: string (valueContainsNull = true)\n",
      " |-- key: string (nullable = false)\n",
      " |-- value: string (nullable = true)\n",
      "\n"
     ]
    }
   ],
   "source": [
    "from pyspark.sql.functions import explode\n",
    "\n",
    "df4= df.select('name','Properties',explode(df.Properties))\n",
    "\n",
    "df4.show()\n",
    "\n",
    "df4.printSchema()"
   ]
  },
  {
   "cell_type": "code",
   "execution_count": 18,
   "id": "7a593792",
   "metadata": {},
   "outputs": [
    {
     "name": "stdout",
     "output_type": "stream",
     "text": [
      "+--------+-----------------------------+-----------+\n",
      "|Name    |Properties                   |Keys       |\n",
      "+--------+-----------------------------+-----------+\n",
      "|srikanth|{eye -> brown, hair -> black}|[eye, hair]|\n",
      "|Manvith |{eye -> blue, hair -> black} |[eye, hair]|\n",
      "+--------+-----------------------------+-----------+\n",
      "\n"
     ]
    }
   ],
   "source": [
    "from pyspark.sql.functions import map_keys,map_values,col\n",
    "\n",
    "df5 = df.withColumn('Keys',col=map_keys(col('Properties')))\n",
    "\n",
    "df5.show(truncate=False)"
   ]
  },
  {
   "cell_type": "code",
   "execution_count": 19,
   "id": "d16a4924",
   "metadata": {},
   "outputs": [
    {
     "name": "stdout",
     "output_type": "stream",
     "text": [
      "+--------+-----------------------------+--------------+\n",
      "|Name    |Properties                   |Values        |\n",
      "+--------+-----------------------------+--------------+\n",
      "|srikanth|{eye -> brown, hair -> black}|[brown, black]|\n",
      "|Manvith |{eye -> blue, hair -> black} |[blue, black] |\n",
      "+--------+-----------------------------+--------------+\n",
      "\n"
     ]
    }
   ],
   "source": [
    "df6 = df.withColumn('Values',map_values(col('Properties')))\n",
    "\n",
    "df6.show(truncate=False)"
   ]
  },
  {
   "cell_type": "code",
   "execution_count": null,
   "id": "6c13a74e",
   "metadata": {},
   "outputs": [],
   "source": []
  }
 ],
 "metadata": {
  "kernelspec": {
   "display_name": "Python 3 (ipykernel)",
   "language": "python",
   "name": "python3"
  },
  "language_info": {
   "codemirror_mode": {
    "name": "ipython",
    "version": 3
   },
   "file_extension": ".py",
   "mimetype": "text/x-python",
   "name": "python",
   "nbconvert_exporter": "python",
   "pygments_lexer": "ipython3",
   "version": "3.9.13"
  }
 },
 "nbformat": 4,
 "nbformat_minor": 5
}
