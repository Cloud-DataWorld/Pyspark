{
 "cells": [
  {
   "cell_type": "code",
   "execution_count": 1,
   "id": "e1acaae8",
   "metadata": {},
   "outputs": [],
   "source": [
    "import findspark\n",
    "\n",
    "findspark.init()\n",
    "\n",
    "from pyspark.sql import SparkSession\n",
    "\n",
    "spark = SparkSession.builder.getOrCreate()"
   ]
  },
  {
   "cell_type": "code",
   "execution_count": null,
   "id": "c74de6bc",
   "metadata": {},
   "outputs": [],
   "source": []
  },
  {
   "cell_type": "code",
   "execution_count": 4,
   "id": "fbd9a500",
   "metadata": {},
   "outputs": [
    {
     "name": "stdout",
     "output_type": "stream",
     "text": [
      "+---------+------------+----+\n",
      "|     Name|        Dept| Sal|\n",
      "+---------+------------+----+\n",
      "|      Sri|          IT|3000|\n",
      "|     Manu|          HR|4000|\n",
      "|Akshainie|     Finance|5000|\n",
      "|  Sandhya|HomeMinister|3000|\n",
      "+---------+------------+----+\n",
      "\n",
      "root\n",
      " |-- Name: string (nullable = true)\n",
      " |-- Dept: string (nullable = true)\n",
      " |-- Sal: long (nullable = true)\n",
      "\n"
     ]
    }
   ],
   "source": [
    "simpledata = [('Sri','IT',3000),\\\n",
    "              ('Manu','HR',4000),\\\n",
    "              ('Akshainie','Finance',5000),\\\n",
    "             ('Sandhya','HomeMinister',3000)]\n",
    "\n",
    "schema = ['Name','Dept','Sal']\n",
    "\n",
    "df =  spark.createDataFrame(data=simpledata,schema=schema)\n",
    "\n",
    "df.show()\n",
    "\n",
    "df.printSchema()"
   ]
  },
  {
   "cell_type": "code",
   "execution_count": 10,
   "id": "2183aa83",
   "metadata": {},
   "outputs": [
    {
     "name": "stdout",
     "output_type": "stream",
     "text": [
      "+--------------------------+\n",
      "|approx_count_distinct(Sal)|\n",
      "+--------------------------+\n",
      "|                         3|\n",
      "+--------------------------+\n",
      "\n",
      "+--------+\n",
      "|avg(Sal)|\n",
      "+--------+\n",
      "|  3750.0|\n",
      "+--------+\n",
      "\n",
      "+------------------------+\n",
      "|collect_list(Sal)       |\n",
      "+------------------------+\n",
      "|[3000, 4000, 5000, 3000]|\n",
      "+------------------------+\n",
      "\n",
      "+------------------+\n",
      "|collect_set(Sal)  |\n",
      "+------------------+\n",
      "|[3000, 5000, 4000]|\n",
      "+------------------+\n",
      "\n",
      "+-------------------+\n",
      "|count(DISTINCT Sal)|\n",
      "+-------------------+\n",
      "|3                  |\n",
      "+-------------------+\n",
      "\n",
      "+----------+\n",
      "|count(Sal)|\n",
      "+----------+\n",
      "|4         |\n",
      "+----------+\n",
      "\n"
     ]
    }
   ],
   "source": [
    "from pyspark.sql.functions import approx_count_distinct,\\\n",
    "avg,collect_list,collect_set,count_distinct,count\n",
    "\n",
    "df.select(approx_count_distinct('Sal')).show()\n",
    "\n",
    "df.select(avg('Sal')).show()\n",
    "\n",
    "df.select(collect_list('Sal')).show(truncate=False)\n",
    "\n",
    "df.select(collect_set('Sal')).show(truncate=False)\n",
    "\n",
    "df.select(count_distinct('Sal')).show(truncate=False)\n",
    "\n",
    "df.select(count('Sal')).show(truncate=False)"
   ]
  },
  {
   "cell_type": "code",
   "execution_count": null,
   "id": "9751daea",
   "metadata": {},
   "outputs": [],
   "source": []
  }
 ],
 "metadata": {
  "kernelspec": {
   "display_name": "Python 3 (ipykernel)",
   "language": "python",
   "name": "python3"
  },
  "language_info": {
   "codemirror_mode": {
    "name": "ipython",
    "version": 3
   },
   "file_extension": ".py",
   "mimetype": "text/x-python",
   "name": "python",
   "nbconvert_exporter": "python",
   "pygments_lexer": "ipython3",
   "version": "3.9.13"
  }
 },
 "nbformat": 4,
 "nbformat_minor": 5
}
