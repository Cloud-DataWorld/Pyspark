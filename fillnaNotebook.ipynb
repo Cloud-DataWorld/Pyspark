{
 "cells": [
  {
   "cell_type": "code",
   "execution_count": 1,
   "id": "93cce15a",
   "metadata": {},
   "outputs": [],
   "source": [
    "import findspark\n",
    "\n",
    "findspark.init()\n",
    "\n",
    "from pyspark.sql import SparkSession\n",
    "\n",
    "spark = SparkSession.builder.getOrCreate()"
   ]
  },
  {
   "cell_type": "code",
   "execution_count": 3,
   "id": "6096d54c",
   "metadata": {},
   "outputs": [
    {
     "name": "stdout",
     "output_type": "stream",
     "text": [
      "+---+---------+------+------+----+\n",
      "| ID|     Name|Gender|Salary|Dept|\n",
      "+---+---------+------+------+----+\n",
      "|  1| Srikanth|  Male| 10000|null|\n",
      "|  2|Akshainie|Female| 20000|  IT|\n",
      "|  3|  Manvith|  null| 50000|  HR|\n",
      "+---+---------+------+------+----+\n",
      "\n",
      "root\n",
      " |-- ID: long (nullable = true)\n",
      " |-- Name: string (nullable = true)\n",
      " |-- Gender: string (nullable = true)\n",
      " |-- Salary: long (nullable = true)\n",
      " |-- Dept: string (nullable = true)\n",
      "\n"
     ]
    }
   ],
   "source": [
    "data = [(1,'Srikanth','Male',10000,None),\\\n",
    "        (2,'Akshainie','Female',20000,'IT'),\n",
    "        (3,'Manvith',None,50000,'HR')]\n",
    "\n",
    "schema = ['ID','Name',\"Gender\",'Salary','Dept']\n",
    "\n",
    "df = spark.createDataFrame(data,schema)\n",
    "\n",
    "df.show()\n",
    "\n",
    "df.printSchema()"
   ]
  },
  {
   "cell_type": "code",
   "execution_count": 4,
   "id": "e182cfdc",
   "metadata": {},
   "outputs": [
    {
     "name": "stdout",
     "output_type": "stream",
     "text": [
      "Help on method fillna in module pyspark.sql.dataframe:\n",
      "\n",
      "fillna(value, subset=None) method of pyspark.sql.dataframe.DataFrame instance\n",
      "    Replace null values, alias for ``na.fill()``.\n",
      "    :func:`DataFrame.fillna` and :func:`DataFrameNaFunctions.fill` are aliases of each other.\n",
      "    \n",
      "    .. versionadded:: 1.3.1\n",
      "    \n",
      "    Parameters\n",
      "    ----------\n",
      "    value : int, float, string, bool or dict\n",
      "        Value to replace null values with.\n",
      "        If the value is a dict, then `subset` is ignored and `value` must be a mapping\n",
      "        from column name (string) to replacement value. The replacement value must be\n",
      "        an int, float, boolean, or string.\n",
      "    subset : str, tuple or list, optional\n",
      "        optional list of column names to consider.\n",
      "        Columns specified in subset that do not have matching data type are ignored.\n",
      "        For example, if `value` is a string, and subset contains a non-string column,\n",
      "        then the non-string column is simply ignored.\n",
      "    \n",
      "    Examples\n",
      "    --------\n",
      "    >>> df4.na.fill(50).show()\n",
      "    +---+------+-----+\n",
      "    |age|height| name|\n",
      "    +---+------+-----+\n",
      "    | 10|    80|Alice|\n",
      "    |  5|    50|  Bob|\n",
      "    | 50|    50|  Tom|\n",
      "    | 50|    50| null|\n",
      "    +---+------+-----+\n",
      "    \n",
      "    >>> df5.na.fill(False).show()\n",
      "    +----+-------+-----+\n",
      "    | age|   name|  spy|\n",
      "    +----+-------+-----+\n",
      "    |  10|  Alice|false|\n",
      "    |   5|    Bob|false|\n",
      "    |null|Mallory| true|\n",
      "    +----+-------+-----+\n",
      "    \n",
      "    >>> df4.na.fill({'age': 50, 'name': 'unknown'}).show()\n",
      "    +---+------+-------+\n",
      "    |age|height|   name|\n",
      "    +---+------+-------+\n",
      "    | 10|    80|  Alice|\n",
      "    |  5|  null|    Bob|\n",
      "    | 50|  null|    Tom|\n",
      "    | 50|  null|unknown|\n",
      "    +---+------+-------+\n",
      "\n"
     ]
    }
   ],
   "source": [
    "help(df.fillna)"
   ]
  },
  {
   "cell_type": "code",
   "execution_count": 5,
   "id": "faa051c2",
   "metadata": {},
   "outputs": [
    {
     "name": "stdout",
     "output_type": "stream",
     "text": [
      "+---+---------+-------+------+-------+\n",
      "| ID|     Name| Gender|Salary|   Dept|\n",
      "+---+---------+-------+------+-------+\n",
      "|  1| Srikanth|   Male| 10000|Unknown|\n",
      "|  2|Akshainie| Female| 20000|     IT|\n",
      "|  3|  Manvith|Unknown| 50000|     HR|\n",
      "+---+---------+-------+------+-------+\n",
      "\n"
     ]
    }
   ],
   "source": [
    "df.fillna('Unknown').show()"
   ]
  },
  {
   "cell_type": "code",
   "execution_count": 6,
   "id": "a28e2218",
   "metadata": {},
   "outputs": [
    {
     "name": "stdout",
     "output_type": "stream",
     "text": [
      "+---+---------+-------+------+----+\n",
      "| ID|     Name| Gender|Salary|Dept|\n",
      "+---+---------+-------+------+----+\n",
      "|  1| Srikanth|   Male| 10000|null|\n",
      "|  2|Akshainie| Female| 20000|  IT|\n",
      "|  3|  Manvith|Unknown| 50000|  HR|\n",
      "+---+---------+-------+------+----+\n",
      "\n"
     ]
    }
   ],
   "source": [
    "df.fillna('Unknown',['Gender']).show()"
   ]
  },
  {
   "cell_type": "code",
   "execution_count": 7,
   "id": "e66d0733",
   "metadata": {},
   "outputs": [
    {
     "name": "stdout",
     "output_type": "stream",
     "text": [
      "+---+---------+-------+------+-------+\n",
      "| ID|     Name| Gender|Salary|   Dept|\n",
      "+---+---------+-------+------+-------+\n",
      "|  1| Srikanth|   Male| 10000|Unknown|\n",
      "|  2|Akshainie| Female| 20000|     IT|\n",
      "|  3|  Manvith|Unknown| 50000|     HR|\n",
      "+---+---------+-------+------+-------+\n",
      "\n"
     ]
    }
   ],
   "source": [
    "df.fillna('Unknown',['Gender','Dept']).show()"
   ]
  },
  {
   "cell_type": "code",
   "execution_count": 9,
   "id": "a79cf69e",
   "metadata": {},
   "outputs": [
    {
     "name": "stdout",
     "output_type": "stream",
     "text": [
      "+---+---------+-------+------+-------+\n",
      "| ID|     Name| Gender|Salary|   Dept|\n",
      "+---+---------+-------+------+-------+\n",
      "|  1| Srikanth|   Male| 10000|Unknown|\n",
      "|  2|Akshainie| Female| 20000|     IT|\n",
      "|  3|  Manvith|Unknown| 50000|     HR|\n",
      "+---+---------+-------+------+-------+\n",
      "\n"
     ]
    }
   ],
   "source": [
    "df.na.fill('Unknown').show()"
   ]
  },
  {
   "cell_type": "code",
   "execution_count": 10,
   "id": "4ce72582",
   "metadata": {},
   "outputs": [
    {
     "name": "stdout",
     "output_type": "stream",
     "text": [
      "+---+---------+------+------+----+\n",
      "| ID|     Name|Gender|Salary|Dept|\n",
      "+---+---------+------+------+----+\n",
      "|  1| Srikanth|  Male| 10000|null|\n",
      "|  2|Akshainie|Female| 20000|  IT|\n",
      "|  3|  Manvith|Unknow| 50000|  HR|\n",
      "+---+---------+------+------+----+\n",
      "\n"
     ]
    }
   ],
   "source": [
    "df.na.fill('Unknow',['Gender']).show()"
   ]
  },
  {
   "cell_type": "code",
   "execution_count": null,
   "id": "c7523966",
   "metadata": {},
   "outputs": [],
   "source": []
  }
 ],
 "metadata": {
  "kernelspec": {
   "display_name": "Python 3 (ipykernel)",
   "language": "python",
   "name": "python3"
  },
  "language_info": {
   "codemirror_mode": {
    "name": "ipython",
    "version": 3
   },
   "file_extension": ".py",
   "mimetype": "text/x-python",
   "name": "python",
   "nbconvert_exporter": "python",
   "pygments_lexer": "ipython3",
   "version": "3.9.13"
  }
 },
 "nbformat": 4,
 "nbformat_minor": 5
}
