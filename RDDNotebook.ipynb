{
 "cells": [
  {
   "cell_type": "code",
   "execution_count": 1,
   "id": "79f9cae2",
   "metadata": {},
   "outputs": [],
   "source": [
    "import findspark\n",
    "\n",
    "findspark.init()\n",
    "\n",
    "from pyspark.sql import SparkSession\n",
    "\n",
    "spark = SparkSession.builder.getOrCreate()"
   ]
  },
  {
   "cell_type": "code",
   "execution_count": 3,
   "id": "0bc12b13",
   "metadata": {},
   "outputs": [
    {
     "name": "stdout",
     "output_type": "stream",
     "text": [
      "<class 'pyspark.rdd.RDD'>\n",
      "[(1, 'Srikanth'), (2, 'Akshainie')]\n"
     ]
    }
   ],
   "source": [
    "data = [(1,'Srikanth'),(2,'Akshainie')]\n",
    "\n",
    "rdd = spark.sparkContext.parallelize(data)\n",
    "\n",
    "print(type(rdd))\n",
    "\n",
    "print(rdd.collect())"
   ]
  },
  {
   "cell_type": "code",
   "execution_count": 4,
   "id": "7e5ed601",
   "metadata": {},
   "outputs": [
    {
     "name": "stdout",
     "output_type": "stream",
     "text": [
      "+---+---------+\n",
      "| _1|       _2|\n",
      "+---+---------+\n",
      "|  1| Srikanth|\n",
      "|  2|Akshainie|\n",
      "+---+---------+\n",
      "\n"
     ]
    }
   ],
   "source": [
    "df = rdd.toDF()\n",
    "\n",
    "df.show()"
   ]
  },
  {
   "cell_type": "code",
   "execution_count": 5,
   "id": "8d6dc75f",
   "metadata": {},
   "outputs": [
    {
     "name": "stdout",
     "output_type": "stream",
     "text": [
      "+---+---------+\n",
      "| id|     name|\n",
      "+---+---------+\n",
      "|  1| Srikanth|\n",
      "|  2|Akshainie|\n",
      "+---+---------+\n",
      "\n"
     ]
    }
   ],
   "source": [
    "df1= rdd.toDF(schema=['id','name'])\n",
    "\n",
    "df1.show()"
   ]
  },
  {
   "cell_type": "code",
   "execution_count": 6,
   "id": "d44298e7",
   "metadata": {},
   "outputs": [
    {
     "name": "stdout",
     "output_type": "stream",
     "text": [
      "+---+---------+\n",
      "| id|     name|\n",
      "+---+---------+\n",
      "|  1| Srikanth|\n",
      "|  2|Akshainie|\n",
      "+---+---------+\n",
      "\n"
     ]
    }
   ],
   "source": [
    "df2 = spark.createDataFrame(rdd,schema=['id','name'])\n",
    "\n",
    "df2.show()"
   ]
  },
  {
   "cell_type": "code",
   "execution_count": 7,
   "id": "cdaf0ea5",
   "metadata": {},
   "outputs": [
    {
     "name": "stdout",
     "output_type": "stream",
     "text": [
      "[('Srikanth', 'Parsha'), ('Akshainie', 'Parsha')]\n"
     ]
    }
   ],
   "source": [
    "data = [('Srikanth','Parsha'),('Akshainie','Parsha')]\n",
    "\n",
    "rdd = spark.sparkContext.parallelize(data)\n",
    "\n",
    "print(rdd.collect())"
   ]
  },
  {
   "cell_type": "code",
   "execution_count": 8,
   "id": "3dce41e9",
   "metadata": {},
   "outputs": [
    {
     "name": "stdout",
     "output_type": "stream",
     "text": [
      "[('Srikanth', 'Parsha', 'Srikanth Parsha'), ('Akshainie', 'Parsha', 'Akshainie Parsha')]\n"
     ]
    }
   ],
   "source": [
    "rdd1 = rdd.map(lambda x : x + (x[0] + ' ' + x[1],))\n",
    "\n",
    "print(rdd1.collect())"
   ]
  },
  {
   "cell_type": "code",
   "execution_count": 10,
   "id": "0763596e",
   "metadata": {},
   "outputs": [
    {
     "name": "stdout",
     "output_type": "stream",
     "text": [
      "+---------+------+----------------+\n",
      "|       fn|    ln|        fullname|\n",
      "+---------+------+----------------+\n",
      "| Srikanth|Parsha| Srikanth Parsha|\n",
      "|Akshainie|Parsha|Akshainie Parsha|\n",
      "+---------+------+----------------+\n",
      "\n"
     ]
    }
   ],
   "source": [
    "df = spark.createDataFrame(data,['fn','ln'])\n",
    "\n",
    "rdd1 = df.rdd.map(lambda x : x + (x[0]+' '+x[1],))\n",
    "\n",
    "df1 =  rdd1.toDF(['fn','ln','fullname'])\n",
    "\n",
    "df1.show()"
   ]
  },
  {
   "cell_type": "code",
   "execution_count": 13,
   "id": "c68268eb",
   "metadata": {},
   "outputs": [
    {
     "name": "stdout",
     "output_type": "stream",
     "text": [
      "+---------+------+----------------+\n",
      "|       fn|    ln|        fullname|\n",
      "+---------+------+----------------+\n",
      "| Srikanth|Parsha| Srikanth Parsha|\n",
      "|Akshainie|Parsha|Akshainie Parsha|\n",
      "+---------+------+----------------+\n",
      "\n"
     ]
    }
   ],
   "source": [
    "def fullname(x):\n",
    "    return x+ ( x[0] +' '+x[1],)\n",
    "\n",
    "rdd2 =  df.rdd.map(lambda x : fullname(x))\n",
    "\n",
    "df2 = rdd2.toDF(['fn','ln','fullname'])\n",
    "\n",
    "df2.show()"
   ]
  },
  {
   "cell_type": "code",
   "execution_count": null,
   "id": "c1d985b0",
   "metadata": {},
   "outputs": [],
   "source": []
  }
 ],
 "metadata": {
  "kernelspec": {
   "display_name": "Python 3 (ipykernel)",
   "language": "python",
   "name": "python3"
  },
  "language_info": {
   "codemirror_mode": {
    "name": "ipython",
    "version": 3
   },
   "file_extension": ".py",
   "mimetype": "text/x-python",
   "name": "python",
   "nbconvert_exporter": "python",
   "pygments_lexer": "ipython3",
   "version": "3.9.13"
  }
 },
 "nbformat": 4,
 "nbformat_minor": 5
}
