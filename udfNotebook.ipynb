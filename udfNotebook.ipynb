{
 "cells": [
  {
   "cell_type": "code",
   "execution_count": 1,
   "id": "c71a1cda",
   "metadata": {},
   "outputs": [],
   "source": [
    "import findspark\n",
    "\n",
    "findspark.init()\n",
    "\n",
    "from pyspark.sql import SparkSession\n",
    "\n",
    "spark = SparkSession.builder.getOrCreate()"
   ]
  },
  {
   "cell_type": "code",
   "execution_count": 2,
   "id": "0d259bc3",
   "metadata": {},
   "outputs": [
    {
     "name": "stdout",
     "output_type": "stream",
     "text": [
      "+---+------+------+-----+\n",
      "| id|  name|salary|bonus|\n",
      "+---+------+------+-----+\n",
      "|  1|Maheer|  2000| 1000|\n",
      "|  2|  wafa|  3000| 1500|\n",
      "+---+------+------+-----+\n",
      "\n"
     ]
    }
   ],
   "source": [
    "data = [(1,'Maheer',2000,1000),(2,'wafa',3000,1500)]\n",
    "\n",
    "schema = ['id','name','salary','bonus']\n",
    "\n",
    "df = spark.createDataFrame(data,schema)\n",
    "\n",
    "df.show()"
   ]
  },
  {
   "cell_type": "code",
   "execution_count": 3,
   "id": "dd880f88",
   "metadata": {},
   "outputs": [],
   "source": [
    "def totalpay(s,b):\n",
    "    return s+b\n"
   ]
  },
  {
   "cell_type": "code",
   "execution_count": 8,
   "id": "a7d1b67f",
   "metadata": {},
   "outputs": [],
   "source": [
    "from pyspark.sql.functions import udf,col\n",
    "\n",
    "from pyspark.sql.types import IntegerType\n",
    "\n",
    "# help(udf)"
   ]
  },
  {
   "cell_type": "code",
   "execution_count": 9,
   "id": "5b8a8101",
   "metadata": {},
   "outputs": [],
   "source": [
    "totalpayment =  udf(lambda s, b : totalpay(s,b),IntegerType())"
   ]
  },
  {
   "cell_type": "code",
   "execution_count": 10,
   "id": "064a8469",
   "metadata": {},
   "outputs": [
    {
     "name": "stdout",
     "output_type": "stream",
     "text": [
      "+---+------+------+-----+--------+\n",
      "| id|  name|salary|bonus|TotalPay|\n",
      "+---+------+------+-----+--------+\n",
      "|  1|Maheer|  2000| 1000|    3000|\n",
      "|  2|  wafa|  3000| 1500|    4500|\n",
      "+---+------+------+-----+--------+\n",
      "\n"
     ]
    }
   ],
   "source": [
    "df.withColumn('TotalPay',totalpayment(df.salary,df.bonus)).show()"
   ]
  },
  {
   "cell_type": "code",
   "execution_count": 11,
   "id": "a624b2cd",
   "metadata": {},
   "outputs": [],
   "source": [
    "@udf(returnType=IntegerType())\n",
    "\n",
    "def totalpay(s,b):\n",
    "    return s+b\n"
   ]
  },
  {
   "cell_type": "code",
   "execution_count": 13,
   "id": "717b6a03",
   "metadata": {},
   "outputs": [
    {
     "name": "stdout",
     "output_type": "stream",
     "text": [
      "+---+------+------+-----+--------+\n",
      "| id|  name|salary|bonus|TotalPay|\n",
      "+---+------+------+-----+--------+\n",
      "|  1|Maheer|  2000| 1000|    3000|\n",
      "|  2|  wafa|  3000| 1500|    4500|\n",
      "+---+------+------+-----+--------+\n",
      "\n"
     ]
    }
   ],
   "source": [
    "df.select('*',totalpay(df.salary,df.bonus).alias('TotalPay')).show()"
   ]
  },
  {
   "cell_type": "code",
   "execution_count": 14,
   "id": "0cc882d2",
   "metadata": {},
   "outputs": [],
   "source": [
    "df.createOrReplaceTempView('emp')\n"
   ]
  },
  {
   "cell_type": "code",
   "execution_count": 15,
   "id": "4afd238a",
   "metadata": {},
   "outputs": [
    {
     "name": "stdout",
     "output_type": "stream",
     "text": [
      "+---+------+------+-----+\n",
      "| id|  name|salary|bonus|\n",
      "+---+------+------+-----+\n",
      "|  1|Maheer|  2000| 1000|\n",
      "|  2|  wafa|  3000| 1500|\n",
      "+---+------+------+-----+\n",
      "\n"
     ]
    }
   ],
   "source": [
    "spark.sql('select * from emp').show()"
   ]
  },
  {
   "cell_type": "code",
   "execution_count": 19,
   "id": "046d97f6",
   "metadata": {},
   "outputs": [
    {
     "data": {
      "text/plain": [
       "<function __main__.totalpay(s, b)>"
      ]
     },
     "execution_count": 19,
     "metadata": {},
     "output_type": "execute_result"
    }
   ],
   "source": [
    "spark.udf.register(name='TotalPaySQL',f=totalpay)"
   ]
  },
  {
   "cell_type": "code",
   "execution_count": 20,
   "id": "4c87b0ef",
   "metadata": {},
   "outputs": [
    {
     "name": "stdout",
     "output_type": "stream",
     "text": [
      "+---+------+--------------------------+\n",
      "| id|  name|TotalPaySQL(salary, bonus)|\n",
      "+---+------+--------------------------+\n",
      "|  1|Maheer|                      3000|\n",
      "|  2|  wafa|                      4500|\n",
      "+---+------+--------------------------+\n",
      "\n"
     ]
    }
   ],
   "source": [
    "spark.sql('select id,name,TotalPaySQL(salary,bonus) from emp').show()"
   ]
  },
  {
   "cell_type": "code",
   "execution_count": null,
   "id": "d1d7b65b",
   "metadata": {},
   "outputs": [],
   "source": []
  }
 ],
 "metadata": {
  "kernelspec": {
   "display_name": "Python 3 (ipykernel)",
   "language": "python",
   "name": "python3"
  },
  "language_info": {
   "codemirror_mode": {
    "name": "ipython",
    "version": 3
   },
   "file_extension": ".py",
   "mimetype": "text/x-python",
   "name": "python",
   "nbconvert_exporter": "python",
   "pygments_lexer": "ipython3",
   "version": "3.9.13"
  }
 },
 "nbformat": 4,
 "nbformat_minor": 5
}
