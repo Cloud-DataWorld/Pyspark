{
 "cells": [
  {
   "cell_type": "code",
   "execution_count": 1,
   "id": "281b722a",
   "metadata": {},
   "outputs": [],
   "source": [
    "import findspark\n",
    "findspark.init()\n",
    "\n",
    "from pyspark.sql import SparkSession\n",
    "\n",
    "spark = SparkSession.builder.getOrCreate()"
   ]
  },
  {
   "cell_type": "code",
   "execution_count": 2,
   "id": "747167bf",
   "metadata": {},
   "outputs": [
    {
     "name": "stdout",
     "output_type": "stream",
     "text": [
      "root\n",
      " |-- ID: long (nullable = true)\n",
      " |-- Name: string (nullable = true)\n",
      " |-- Gender: string (nullable = true)\n",
      " |-- Salary: long (nullable = true)\n",
      "\n",
      "+---+--------+------+------+\n",
      "| ID|    Name|Gender|Salary|\n",
      "+---+--------+------+------+\n",
      "|  1|Srikanth|  male|  2000|\n",
      "|  2|  Santhu|  male|  3000|\n",
      "|  3| Sandhya|Female|  4000|\n",
      "+---+--------+------+------+\n",
      "\n"
     ]
    }
   ],
   "source": [
    "data = [(1,'Srikanth','male',2000),(2,'Santhu','male',3000),(3,'Sandhya','Female',4000)]\n",
    "\n",
    "schema = ['ID','Name','Gender','Salary']\n",
    "\n",
    "df = spark.createDataFrame(data,schema)\n",
    "\n",
    "df.printSchema()\n",
    "\n",
    "df.show()"
   ]
  },
  {
   "cell_type": "code",
   "execution_count": 3,
   "id": "02e0b93c",
   "metadata": {},
   "outputs": [
    {
     "name": "stdout",
     "output_type": "stream",
     "text": [
      "Help on method filter in module pyspark.sql.dataframe:\n",
      "\n",
      "filter(condition) method of pyspark.sql.dataframe.DataFrame instance\n",
      "    Filters rows using the given condition.\n",
      "    \n",
      "    :func:`where` is an alias for :func:`filter`.\n",
      "    \n",
      "    .. versionadded:: 1.3.0\n",
      "    \n",
      "    Parameters\n",
      "    ----------\n",
      "    condition : :class:`Column` or str\n",
      "        a :class:`Column` of :class:`types.BooleanType`\n",
      "        or a string of SQL expression.\n",
      "    \n",
      "    Examples\n",
      "    --------\n",
      "    >>> df.filter(df.age > 3).collect()\n",
      "    [Row(age=5, name='Bob')]\n",
      "    >>> df.where(df.age == 2).collect()\n",
      "    [Row(age=2, name='Alice')]\n",
      "    \n",
      "    >>> df.filter(\"age > 3\").collect()\n",
      "    [Row(age=5, name='Bob')]\n",
      "    >>> df.where(\"age = 2\").collect()\n",
      "    [Row(age=2, name='Alice')]\n",
      "\n"
     ]
    }
   ],
   "source": [
    "help(df.filter)"
   ]
  },
  {
   "cell_type": "code",
   "execution_count": 4,
   "id": "e3861a24",
   "metadata": {},
   "outputs": [
    {
     "name": "stdout",
     "output_type": "stream",
     "text": [
      "+---+--------+------+------+\n",
      "| ID|    Name|Gender|Salary|\n",
      "+---+--------+------+------+\n",
      "|  1|Srikanth|  male|  2000|\n",
      "|  2|  Santhu|  male|  3000|\n",
      "+---+--------+------+------+\n",
      "\n"
     ]
    }
   ],
   "source": [
    "df.filter(df.Gender == 'male').show()"
   ]
  },
  {
   "cell_type": "code",
   "execution_count": 5,
   "id": "aed3d62c",
   "metadata": {},
   "outputs": [
    {
     "name": "stdout",
     "output_type": "stream",
     "text": [
      "+---+--------+------+------+\n",
      "| ID|    Name|Gender|Salary|\n",
      "+---+--------+------+------+\n",
      "|  1|Srikanth|  male|  2000|\n",
      "|  2|  Santhu|  male|  3000|\n",
      "+---+--------+------+------+\n",
      "\n"
     ]
    }
   ],
   "source": [
    "df.filter(\"Gender == 'male'\").show()"
   ]
  },
  {
   "cell_type": "code",
   "execution_count": 7,
   "id": "6ebcf3b3",
   "metadata": {},
   "outputs": [
    {
     "name": "stdout",
     "output_type": "stream",
     "text": [
      "+---+-------+------+------+\n",
      "| ID|   Name|Gender|Salary|\n",
      "+---+-------+------+------+\n",
      "|  3|Sandhya|Female|  4000|\n",
      "+---+-------+------+------+\n",
      "\n"
     ]
    }
   ],
   "source": [
    "df.where(\"Gender == 'Female'\").show()"
   ]
  },
  {
   "cell_type": "code",
   "execution_count": 8,
   "id": "efb34387",
   "metadata": {},
   "outputs": [
    {
     "name": "stdout",
     "output_type": "stream",
     "text": [
      "+---+--------+------+------+\n",
      "| ID|    Name|Gender|Salary|\n",
      "+---+--------+------+------+\n",
      "|  1|Srikanth|  male|  2000|\n",
      "+---+--------+------+------+\n",
      "\n"
     ]
    }
   ],
   "source": [
    "df.where((df.Gender == 'male') & (df.Salary == 2000)).show()"
   ]
  },
  {
   "cell_type": "code",
   "execution_count": null,
   "id": "af830161",
   "metadata": {},
   "outputs": [],
   "source": []
  }
 ],
 "metadata": {
  "kernelspec": {
   "display_name": "Python 3 (ipykernel)",
   "language": "python",
   "name": "python3"
  },
  "language_info": {
   "codemirror_mode": {
    "name": "ipython",
    "version": 3
   },
   "file_extension": ".py",
   "mimetype": "text/x-python",
   "name": "python",
   "nbconvert_exporter": "python",
   "pygments_lexer": "ipython3",
   "version": "3.9.13"
  }
 },
 "nbformat": 4,
 "nbformat_minor": 5
}
