{
 "cells": [
  {
   "cell_type": "code",
   "execution_count": 3,
   "id": "4132d2a2",
   "metadata": {},
   "outputs": [],
   "source": [
    "import findspark\n",
    "\n",
    "findspark.init()\n",
    "\n",
    "from pyspark.sql import SparkSession\n",
    "\n",
    "spark = SparkSession.builder.getOrCreate()"
   ]
  },
  {
   "cell_type": "code",
   "execution_count": 6,
   "id": "260fd75f",
   "metadata": {},
   "outputs": [
    {
     "name": "stdout",
     "output_type": "stream",
     "text": [
      "+--------+-----------------------------+\n",
      "|id      |props                        |\n",
      "+--------+-----------------------------+\n",
      "|Srikanth|{eye -> brown, hair -> black}|\n",
      "+--------+-----------------------------+\n",
      "\n",
      "root\n",
      " |-- id: string (nullable = true)\n",
      " |-- props: map (nullable = true)\n",
      " |    |-- key: string\n",
      " |    |-- value: string (valueContainsNull = true)\n",
      "\n"
     ]
    }
   ],
   "source": [
    "data = [('Srikanth',{'hair':'black','eye':'brown'})]\n",
    "         \n",
    "schema = ['id','props']\n",
    "         \n",
    "df = spark.createDataFrame(data,schema)\n",
    "         \n",
    "df.show(truncate=False)\n",
    "         \n",
    "df.printSchema()"
   ]
  },
  {
   "cell_type": "code",
   "execution_count": 7,
   "id": "051b6ab3",
   "metadata": {},
   "outputs": [
    {
     "name": "stdout",
     "output_type": "stream",
     "text": [
      "+--------+-----------------------------+------------------------------+\n",
      "|id      |props                        |propstring                    |\n",
      "+--------+-----------------------------+------------------------------+\n",
      "|Srikanth|{eye -> brown, hair -> black}|{\"eye\":\"brown\",\"hair\":\"black\"}|\n",
      "+--------+-----------------------------+------------------------------+\n",
      "\n",
      "root\n",
      " |-- id: string (nullable = true)\n",
      " |-- props: map (nullable = true)\n",
      " |    |-- key: string\n",
      " |    |-- value: string (valueContainsNull = true)\n",
      " |-- propstring: string (nullable = true)\n",
      "\n"
     ]
    }
   ],
   "source": [
    "#convert any data type MapType,StructType into json string using to_json\n",
    "\n",
    "from pyspark.sql.types import StringType,StructField,StructType\n",
    "\n",
    "from pyspark.sql.functions import to_json\n",
    "\n",
    "df1 = df.withColumn('propstring',to_json(df.props))\n",
    "\n",
    "df1.show(truncate=False)\n",
    "\n",
    "df1.printSchema()\n",
    "\n"
   ]
  },
  {
   "cell_type": "code",
   "execution_count": 9,
   "id": "68191150",
   "metadata": {},
   "outputs": [
    {
     "name": "stdout",
     "output_type": "stream",
     "text": [
      "+--------+--------------+\n",
      "|name    |Properties    |\n",
      "+--------+--------------+\n",
      "|Srikanth|{black, brown}|\n",
      "+--------+--------------+\n",
      "\n",
      "root\n",
      " |-- name: string (nullable = true)\n",
      " |-- Properties: struct (nullable = true)\n",
      " |    |-- Hair: string (nullable = true)\n",
      " |    |-- Eye: string (nullable = true)\n",
      "\n"
     ]
    }
   ],
   "source": [
    "data = [('Srikanth',('black','brown'))]\n",
    "\n",
    "schema = StructType([\\\n",
    "                    StructField('name',StringType()),\\\n",
    "                    StructField('Properties',\\\n",
    "                    StructType([StructField('Hair',StringType()),\\\n",
    "                    StructField('Eye',StringType())]))])\n",
    "\n",
    "df2 = spark.createDataFrame(data,schema)\n",
    "\n",
    "df2.show(truncate=False)\n",
    "\n",
    "df2.printSchema()"
   ]
  },
  {
   "cell_type": "code",
   "execution_count": 11,
   "id": "eb379938",
   "metadata": {},
   "outputs": [
    {
     "name": "stdout",
     "output_type": "stream",
     "text": [
      "+--------+--------------+------------------------------+\n",
      "|name    |Properties    |propjsonstring                |\n",
      "+--------+--------------+------------------------------+\n",
      "|Srikanth|{black, brown}|{\"Hair\":\"black\",\"Eye\":\"brown\"}|\n",
      "+--------+--------------+------------------------------+\n",
      "\n",
      "root\n",
      " |-- name: string (nullable = true)\n",
      " |-- Properties: struct (nullable = true)\n",
      " |    |-- Hair: string (nullable = true)\n",
      " |    |-- Eye: string (nullable = true)\n",
      " |-- propjsonstring: string (nullable = true)\n",
      "\n"
     ]
    }
   ],
   "source": [
    "df3= df2.withColumn('propjsonstring',to_json(df2.Properties))\n",
    "\n",
    "df3.show(truncate=False)\n",
    "\n",
    "df3.printSchema()"
   ]
  },
  {
   "cell_type": "code",
   "execution_count": 12,
   "id": "6ec4a133",
   "metadata": {},
   "outputs": [
    {
     "name": "stdout",
     "output_type": "stream",
     "text": [
      "+--------+---------------------------------------------+\n",
      "|Name    |Prop                                         |\n",
      "+--------+---------------------------------------------+\n",
      "|Srikanth|{\"hair\":\"black\",\"eye\":\"brown\",\"skin\":\"brown\"}|\n",
      "|Manvith |{\"hair\":\"black\",\"eye\":\"blue\",\"skin\":\"white\"} |\n",
      "+--------+---------------------------------------------+\n",
      "\n",
      "root\n",
      " |-- Name: string (nullable = true)\n",
      " |-- Prop: string (nullable = true)\n",
      "\n"
     ]
    }
   ],
   "source": [
    "#json tuple\n",
    "\n",
    "data = [('Srikanth','{\"hair\":\"black\",\"eye\":\"brown\",\"skin\":\"brown\"}'),\\\n",
    "        ('Manvith','{\"hair\":\"black\",\"eye\":\"blue\",\"skin\":\"white\"}')]\n",
    "         \n",
    "schema = ['Name','Prop']\n",
    "         \n",
    "\n",
    "df = spark.createDataFrame(data,schema)\n",
    "\n",
    "df.show(truncate=False)\n",
    "\n",
    "df.printSchema()"
   ]
  },
  {
   "cell_type": "code",
   "execution_count": 13,
   "id": "88efecc8",
   "metadata": {},
   "outputs": [
    {
     "name": "stdout",
     "output_type": "stream",
     "text": [
      "+--------+-----+-----+\n",
      "|    Name|  eye| skin|\n",
      "+--------+-----+-----+\n",
      "|Srikanth|brown|brown|\n",
      "| Manvith| blue|white|\n",
      "+--------+-----+-----+\n",
      "\n"
     ]
    }
   ],
   "source": [
    "from pyspark.sql.functions import json_tuple\n",
    "\n",
    "df.select('Name',json_tuple(df.Prop,'eye','skin').alias('eye','skin')).show()"
   ]
  },
  {
   "cell_type": "code",
   "execution_count": 18,
   "id": "b22cffb9",
   "metadata": {},
   "outputs": [
    {
     "name": "stdout",
     "output_type": "stream",
     "text": [
      "+--------+--------------------------------------------------------------+\n",
      "|name    |props                                                         |\n",
      "+--------+--------------------------------------------------------------+\n",
      "|Srikanth|{\"address\":{\"city\":\"hyd\",\"state\":\"telangana\"},\"gender\":\"male\"}|\n",
      "|Manvith |{\"address\":{\"city\":\"bang\",\"state\":\"Karnataka\"},\"eye\":\"blue\"}  |\n",
      "+--------+--------------------------------------------------------------+\n",
      "\n",
      "root\n",
      " |-- name: string (nullable = true)\n",
      " |-- props: string (nullable = true)\n",
      "\n"
     ]
    }
   ],
   "source": [
    "#get_json_object\n",
    "\n",
    "# it's used to extract the json string based on path from the json column\n",
    "\n",
    "\n",
    "data = [('Srikanth','{\"address\":{\"city\":\"hyd\",\"state\":\"telangana\"},\"gender\":\"male\"}'),\\\n",
    "         ('Manvith','{\"address\":{\"city\":\"bang\",\"state\":\"Karnataka\"},\"eye\":\"blue\"}')]\n",
    "\n",
    "schema = ['name','props']\n",
    "\n",
    "df = spark.createDataFrame(data, schema)\n",
    "\n",
    "df.show(truncate=False)\n",
    "\n",
    "df.printSchema()"
   ]
  },
  {
   "cell_type": "code",
   "execution_count": 15,
   "id": "a2ac20a3",
   "metadata": {
    "collapsed": true
   },
   "outputs": [
    {
     "name": "stdout",
     "output_type": "stream",
     "text": [
      "Help on function get_json_object in module pyspark.sql.functions:\n",
      "\n",
      "get_json_object(col, path)\n",
      "    Extracts json object from a json string based on json path specified, and returns json string\n",
      "    of the extracted json object. It will return null if the input json string is invalid.\n",
      "    \n",
      "    .. versionadded:: 1.6.0\n",
      "    \n",
      "    Parameters\n",
      "    ----------\n",
      "    col : :class:`~pyspark.sql.Column` or str\n",
      "        string column in json format\n",
      "    path : str\n",
      "        path to the json object to extract\n",
      "    \n",
      "    Examples\n",
      "    --------\n",
      "    >>> data = [(\"1\", '''{\"f1\": \"value1\", \"f2\": \"value2\"}'''), (\"2\", '''{\"f1\": \"value12\"}''')]\n",
      "    >>> df = spark.createDataFrame(data, (\"key\", \"jstring\"))\n",
      "    >>> df.select(df.key, get_json_object(df.jstring, '$.f1').alias(\"c0\"), \\\n",
      "    ...                   get_json_object(df.jstring, '$.f2').alias(\"c1\") ).collect()\n",
      "    [Row(key='1', c0='value1', c1='value2'), Row(key='2', c0='value12', c1=None)]\n",
      "\n"
     ]
    }
   ],
   "source": [
    "from pyspark.sql.functions import get_json_object\n",
    "\n",
    "# help(get_json_object)"
   ]
  },
  {
   "cell_type": "code",
   "execution_count": 21,
   "id": "54cf2ab8",
   "metadata": {},
   "outputs": [
    {
     "name": "stdout",
     "output_type": "stream",
     "text": [
      "+--------+------+----+\n",
      "|    name|gender|city|\n",
      "+--------+------+----+\n",
      "|Srikanth|  male| hyd|\n",
      "| Manvith|  null|bang|\n",
      "+--------+------+----+\n",
      "\n"
     ]
    }
   ],
   "source": [
    "df.select('name',get_json_object(df.props,'$.gender').alias('gender'),\\\n",
    "         get_json_object('props','$.address.city').alias('city')).show()"
   ]
  },
  {
   "cell_type": "code",
   "execution_count": null,
   "id": "351386ef",
   "metadata": {},
   "outputs": [],
   "source": []
  }
 ],
 "metadata": {
  "kernelspec": {
   "display_name": "Python 3 (ipykernel)",
   "language": "python",
   "name": "python3"
  },
  "language_info": {
   "codemirror_mode": {
    "name": "ipython",
    "version": 3
   },
   "file_extension": ".py",
   "mimetype": "text/x-python",
   "name": "python",
   "nbconvert_exporter": "python",
   "pygments_lexer": "ipython3",
   "version": "3.9.13"
  }
 },
 "nbformat": 4,
 "nbformat_minor": 5
}
