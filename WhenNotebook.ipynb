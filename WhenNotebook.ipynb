{
 "cells": [
  {
   "cell_type": "code",
   "execution_count": 1,
   "id": "a9991a7b",
   "metadata": {},
   "outputs": [],
   "source": [
    "import findspark\n",
    "findspark.init()\n",
    "\n",
    "from pyspark.sql import SparkSession\n",
    "\n",
    "spark = SparkSession.builder.getOrCreate()"
   ]
  },
  {
   "cell_type": "code",
   "execution_count": 2,
   "id": "b46bc607",
   "metadata": {},
   "outputs": [
    {
     "name": "stdout",
     "output_type": "stream",
     "text": [
      "root\n",
      " |-- Name: string (nullable = true)\n",
      " |-- Gender: string (nullable = true)\n",
      " |-- Salary: long (nullable = true)\n",
      "\n",
      "+--------+------+------+\n",
      "|Name    |Gender|Salary|\n",
      "+--------+------+------+\n",
      "|Srikanth|M     |2000  |\n",
      "|Manu    |M     |3000  |\n",
      "+--------+------+------+\n",
      "\n"
     ]
    }
   ],
   "source": [
    "data = [('Srikanth','M',2000),('Manu','M',3000)]\n",
    "\n",
    "schema = ['Name','Gender','Salary']\n",
    "\n",
    "df = spark.createDataFrame(data=data,schema=schema)\n",
    "\n",
    "df.printSchema()\n",
    "\n",
    "df.show(truncate=False)"
   ]
  },
  {
   "cell_type": "code",
   "execution_count": 10,
   "id": "566e3280",
   "metadata": {
    "collapsed": true
   },
   "outputs": [
    {
     "name": "stdout",
     "output_type": "stream",
     "text": [
      "Help on function when in module pyspark.sql.functions:\n",
      "\n",
      "when(condition, value)\n",
      "    Evaluates a list of conditions and returns one of multiple possible result expressions.\n",
      "    If :func:`pyspark.sql.Column.otherwise` is not invoked, None is returned for unmatched\n",
      "    conditions.\n",
      "    \n",
      "    .. versionadded:: 1.4.0\n",
      "    \n",
      "    Parameters\n",
      "    ----------\n",
      "    condition : :class:`~pyspark.sql.Column`\n",
      "        a boolean :class:`~pyspark.sql.Column` expression.\n",
      "    value :\n",
      "        a literal value, or a :class:`~pyspark.sql.Column` expression.\n",
      "    \n",
      "    Examples\n",
      "    --------\n",
      "    >>> df.select(when(df['age'] == 2, 3).otherwise(4).alias(\"age\")).collect()\n",
      "    [Row(age=3), Row(age=4)]\n",
      "    \n",
      "    >>> df.select(when(df.age == 2, df.age + 1).alias(\"age\")).collect()\n",
      "    [Row(age=3), Row(age=None)]\n",
      "\n"
     ]
    }
   ],
   "source": [
    "from pyspark.sql.functions import when\n",
    "help(when)"
   ]
  },
  {
   "cell_type": "code",
   "execution_count": 12,
   "id": "25325ea4",
   "metadata": {},
   "outputs": [
    {
     "name": "stdout",
     "output_type": "stream",
     "text": [
      "+--------+------+\n",
      "|    Name|Gender|\n",
      "+--------+------+\n",
      "|Srikanth|  Male|\n",
      "|    Manu|  Male|\n",
      "+--------+------+\n",
      "\n"
     ]
    }
   ],
   "source": [
    "\n",
    "df1 = df.select(df.Name,\\\n",
    "                 when(df.Gender =='M','Male') \\\n",
    "                 .when(df.Gender == 'F','Female')\\\n",
    "                 .otherwise('Unknown').alias('Gender'))\n",
    "\n",
    "df1.show()\n"
   ]
  },
  {
   "cell_type": "code",
   "execution_count": 13,
   "id": "adae3565",
   "metadata": {},
   "outputs": [
    {
     "name": "stdout",
     "output_type": "stream",
     "text": [
      "+--------+------+------+\n",
      "|    Name|Gender|Salary|\n",
      "+--------+------+------+\n",
      "|Srikanth|     M|  2000|\n",
      "|    Manu|     M|  3000|\n",
      "+--------+------+------+\n",
      "\n"
     ]
    }
   ],
   "source": [
    "df.select('Name','Gender','Salary').show()"
   ]
  },
  {
   "cell_type": "code",
   "execution_count": 14,
   "id": "0afc0d9e",
   "metadata": {},
   "outputs": [
    {
     "name": "stdout",
     "output_type": "stream",
     "text": [
      "+--------+----------+----------+\n",
      "|Emp_Name|Emp_Gender|Emp_Salary|\n",
      "+--------+----------+----------+\n",
      "|Srikanth|         M|      2000|\n",
      "|    Manu|         M|      3000|\n",
      "+--------+----------+----------+\n",
      "\n"
     ]
    }
   ],
   "source": [
    "df.select(df.Name.alias('Emp_Name'),df.Gender.alias('Emp_Gender'),df.Salary.alias('Emp_Salary')).show()"
   ]
  },
  {
   "cell_type": "code",
   "execution_count": 15,
   "id": "11160941",
   "metadata": {},
   "outputs": [
    {
     "name": "stdout",
     "output_type": "stream",
     "text": [
      "+--------+------+------+\n",
      "|    Name|Gender|Salary|\n",
      "+--------+------+------+\n",
      "|    Manu|     M|  3000|\n",
      "|Srikanth|     M|  2000|\n",
      "+--------+------+------+\n",
      "\n"
     ]
    }
   ],
   "source": [
    "df.sort(df.Name.asc()).show()"
   ]
  },
  {
   "cell_type": "code",
   "execution_count": 16,
   "id": "2866969a",
   "metadata": {},
   "outputs": [
    {
     "name": "stdout",
     "output_type": "stream",
     "text": [
      "+--------+------+------+\n",
      "|    Name|Gender|Salary|\n",
      "+--------+------+------+\n",
      "|Srikanth|     M|  2000|\n",
      "|    Manu|     M|  3000|\n",
      "+--------+------+------+\n",
      "\n"
     ]
    }
   ],
   "source": [
    "df.sort(df.Name.desc()).show()"
   ]
  },
  {
   "cell_type": "code",
   "execution_count": 17,
   "id": "4dbceaa7",
   "metadata": {},
   "outputs": [
    {
     "name": "stdout",
     "output_type": "stream",
     "text": [
      "root\n",
      " |-- Name: string (nullable = true)\n",
      " |-- Gender: string (nullable = true)\n",
      " |-- Salary: long (nullable = true)\n",
      "\n"
     ]
    }
   ],
   "source": [
    "df.printSchema()"
   ]
  },
  {
   "cell_type": "code",
   "execution_count": 23,
   "id": "aab44504",
   "metadata": {},
   "outputs": [
    {
     "name": "stdout",
     "output_type": "stream",
     "text": [
      "root\n",
      " |-- Name: string (nullable = true)\n",
      " |-- Gender: string (nullable = true)\n",
      " |-- Salary: integer (nullable = true)\n",
      "\n"
     ]
    }
   ],
   "source": [
    "df1 = df.select('Name','Gender',df.Salary.cast('int'))\n",
    "df1.printSchema()"
   ]
  },
  {
   "cell_type": "code",
   "execution_count": 28,
   "id": "3c29408f",
   "metadata": {},
   "outputs": [
    {
     "name": "stdout",
     "output_type": "stream",
     "text": [
      "+----+------+------+\n",
      "|Name|Gender|Salary|\n",
      "+----+------+------+\n",
      "|Manu|     M|  3000|\n",
      "+----+------+------+\n",
      "\n"
     ]
    }
   ],
   "source": [
    "df.filter(df.Name.like('M%')).show()"
   ]
  },
  {
   "cell_type": "code",
   "execution_count": null,
   "id": "b5bf36e4",
   "metadata": {},
   "outputs": [],
   "source": []
  }
 ],
 "metadata": {
  "kernelspec": {
   "display_name": "Python 3 (ipykernel)",
   "language": "python",
   "name": "python3"
  },
  "language_info": {
   "codemirror_mode": {
    "name": "ipython",
    "version": 3
   },
   "file_extension": ".py",
   "mimetype": "text/x-python",
   "name": "python",
   "nbconvert_exporter": "python",
   "pygments_lexer": "ipython3",
   "version": "3.9.13"
  }
 },
 "nbformat": 4,
 "nbformat_minor": 5
}
