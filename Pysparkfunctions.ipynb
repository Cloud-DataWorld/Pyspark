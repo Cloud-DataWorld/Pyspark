{
 "cells": [
  {
   "cell_type": "code",
   "execution_count": 1,
   "id": "7e44e69b",
   "metadata": {},
   "outputs": [],
   "source": [
    "import findspark\n",
    "\n",
    "findspark.init()\n",
    "\n",
    "\n",
    "from pyspark.sql import SparkSession\n",
    "\n",
    "spark =  SparkSession.builder.getOrCreate()"
   ]
  },
  {
   "cell_type": "code",
   "execution_count": 2,
   "id": "314b0453",
   "metadata": {},
   "outputs": [
    {
     "name": "stdout",
     "output_type": "stream",
     "text": [
      "+---+--------+\n",
      "| ID|    NAME|\n",
      "+---+--------+\n",
      "|  1|Srikanth|\n",
      "|  2| Manvith|\n",
      "+---+--------+\n",
      "\n"
     ]
    }
   ],
   "source": [
    "data = [(1,'Srikanth'),(2,'Manvith')]\n",
    "\n",
    "schema = ['ID','NAME']\n",
    "\n",
    "\n",
    "df = spark.createDataFrame(data=data,schema=schema)\n",
    "\n",
    "df.show()"
   ]
  },
  {
   "cell_type": "code",
   "execution_count": 4,
   "id": "224a1a96",
   "metadata": {},
   "outputs": [
    {
     "name": "stdout",
     "output_type": "stream",
     "text": [
      "+---+--------+--------+\n",
      "|ID |NAME    |Upper   |\n",
      "+---+--------+--------+\n",
      "|1  |Srikanth|SRIKANTH|\n",
      "|2  |Manvith |MANVITH |\n",
      "+---+--------+--------+\n",
      "\n"
     ]
    }
   ],
   "source": [
    "from pyspark.sql.functions import upper\n",
    "\n",
    "df.withColumn('Upper',upper(df.NAME)).show(truncate=False)"
   ]
  },
  {
   "cell_type": "code",
   "execution_count": 6,
   "id": "ee141be1",
   "metadata": {},
   "outputs": [
    {
     "name": "stdout",
     "output_type": "stream",
     "text": [
      "+---+--------+--------+\n",
      "|ID |NAME    |UPPER   |\n",
      "+---+--------+--------+\n",
      "|1  |Srikanth|SRIKANTH|\n",
      "|2  |Manvith |MANVITH |\n",
      "+---+--------+--------+\n",
      "\n"
     ]
    }
   ],
   "source": [
    "df.select('ID',\"NAME\",upper('NAME').alias('UPPER')).show(truncate = False)"
   ]
  },
  {
   "cell_type": "code",
   "execution_count": 9,
   "id": "2fa0e6e7",
   "metadata": {},
   "outputs": [
    {
     "name": "stdout",
     "output_type": "stream",
     "text": [
      "+---+--------+---------+\n",
      "| ID|    NAME|Uppercase|\n",
      "+---+--------+---------+\n",
      "|  1|Srikanth| SRIKANTH|\n",
      "|  2| Manvith|  MANVITH|\n",
      "+---+--------+---------+\n",
      "\n"
     ]
    }
   ],
   "source": [
    "df.createOrReplaceTempView('test_table')\n",
    "\n",
    "spark.sql('select ID,NAME,UPPER(NAME) as Uppercase from test_table').show()"
   ]
  },
  {
   "cell_type": "code",
   "execution_count": 12,
   "id": "a5f5fe03",
   "metadata": {},
   "outputs": [
    {
     "name": "stdout",
     "output_type": "stream",
     "text": [
      "+---+--------+\n",
      "| ID|    name|\n",
      "+---+--------+\n",
      "|  1|SRIKANTH|\n",
      "|  2| MANVITH|\n",
      "+---+--------+\n",
      "\n"
     ]
    }
   ],
   "source": [
    "def uppercase(df):\n",
    "    return df.withColumn('name',upper(df.NAME))\n",
    "\n",
    "df.transform(uppercase).show()"
   ]
  },
  {
   "cell_type": "code",
   "execution_count": null,
   "id": "21204979",
   "metadata": {},
   "outputs": [],
   "source": []
  }
 ],
 "metadata": {
  "kernelspec": {
   "display_name": "Python 3 (ipykernel)",
   "language": "python",
   "name": "python3"
  },
  "language_info": {
   "codemirror_mode": {
    "name": "ipython",
    "version": 3
   },
   "file_extension": ".py",
   "mimetype": "text/x-python",
   "name": "python",
   "nbconvert_exporter": "python",
   "pygments_lexer": "ipython3",
   "version": "3.9.13"
  }
 },
 "nbformat": 4,
 "nbformat_minor": 5
}
