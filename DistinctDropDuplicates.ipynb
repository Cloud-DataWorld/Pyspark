{
 "cells": [
  {
   "cell_type": "code",
   "execution_count": 1,
   "id": "708a9d8d",
   "metadata": {},
   "outputs": [],
   "source": [
    "import findspark\n",
    "findspark.init()\n",
    "\n",
    "from pyspark.sql import SparkSession\n",
    "\n",
    "spark = SparkSession.builder.getOrCreate()"
   ]
  },
  {
   "cell_type": "code",
   "execution_count": 8,
   "id": "45c63bb7",
   "metadata": {},
   "outputs": [],
   "source": [
    "data = [(1,'srik','male',2000),(2,'manu','male',3000),(2,'manu','male',3000),(3,'akshainie','female',3500)]                                         \n",
    "schema = ['id','name','gender','salary']\n",
    "                                                       \n",
    "                                                \n",
    "                                                       "
   ]
  },
  {
   "cell_type": "code",
   "execution_count": 9,
   "id": "11c71613",
   "metadata": {},
   "outputs": [
    {
     "name": "stdout",
     "output_type": "stream",
     "text": [
      "+---+---------+------+------+\n",
      "| id|     name|gender|salary|\n",
      "+---+---------+------+------+\n",
      "|  1|     srik|  male|  2000|\n",
      "|  2|     manu|  male|  3000|\n",
      "|  2|     manu|  male|  3000|\n",
      "|  3|akshainie|female|  3500|\n",
      "+---+---------+------+------+\n",
      "\n"
     ]
    }
   ],
   "source": [
    "df = spark.createDataFrame(data,schema)\n",
    "df.show()"
   ]
  },
  {
   "cell_type": "code",
   "execution_count": 10,
   "id": "b03f833a",
   "metadata": {},
   "outputs": [
    {
     "name": "stdout",
     "output_type": "stream",
     "text": [
      "Help on method distinct in module pyspark.sql.dataframe:\n",
      "\n",
      "distinct() method of pyspark.sql.dataframe.DataFrame instance\n",
      "    Returns a new :class:`DataFrame` containing the distinct rows in this :class:`DataFrame`.\n",
      "    \n",
      "    .. versionadded:: 1.3.0\n",
      "    \n",
      "    Examples\n",
      "    --------\n",
      "    >>> df.distinct().count()\n",
      "    2\n",
      "\n"
     ]
    }
   ],
   "source": [
    "help(df.distinct)"
   ]
  },
  {
   "cell_type": "code",
   "execution_count": 11,
   "id": "fdfd3fdd",
   "metadata": {},
   "outputs": [
    {
     "name": "stdout",
     "output_type": "stream",
     "text": [
      "+---+---------+------+------+\n",
      "| id|     name|gender|salary|\n",
      "+---+---------+------+------+\n",
      "|  1|     srik|  male|  2000|\n",
      "|  2|     manu|  male|  3000|\n",
      "|  3|akshainie|female|  3500|\n",
      "+---+---------+------+------+\n",
      "\n"
     ]
    }
   ],
   "source": [
    "df.distinct().show()"
   ]
  },
  {
   "cell_type": "code",
   "execution_count": 12,
   "id": "14ff2e73",
   "metadata": {},
   "outputs": [
    {
     "name": "stdout",
     "output_type": "stream",
     "text": [
      "+---+---------+------+------+\n",
      "| id|     name|gender|salary|\n",
      "+---+---------+------+------+\n",
      "|  1|     srik|  male|  2000|\n",
      "|  2|     manu|  male|  3000|\n",
      "|  3|akshainie|female|  3500|\n",
      "+---+---------+------+------+\n",
      "\n"
     ]
    }
   ],
   "source": [
    "df.dropDuplicates().show()"
   ]
  },
  {
   "cell_type": "code",
   "execution_count": 13,
   "id": "24f47278",
   "metadata": {
    "collapsed": true
   },
   "outputs": [
    {
     "name": "stdout",
     "output_type": "stream",
     "text": [
      "Help on method dropDuplicates in module pyspark.sql.dataframe:\n",
      "\n",
      "dropDuplicates(subset=None) method of pyspark.sql.dataframe.DataFrame instance\n",
      "    Return a new :class:`DataFrame` with duplicate rows removed,\n",
      "    optionally only considering certain columns.\n",
      "    \n",
      "    For a static batch :class:`DataFrame`, it just drops duplicate rows. For a streaming\n",
      "    :class:`DataFrame`, it will keep all data across triggers as intermediate state to drop\n",
      "    duplicates rows. You can use :func:`withWatermark` to limit how late the duplicate data can\n",
      "    be and system will accordingly limit the state. In addition, too late data older than\n",
      "    watermark will be dropped to avoid any possibility of duplicates.\n",
      "    \n",
      "    :func:`drop_duplicates` is an alias for :func:`dropDuplicates`.\n",
      "    \n",
      "    .. versionadded:: 1.4.0\n",
      "    \n",
      "    Examples\n",
      "    --------\n",
      "    >>> from pyspark.sql import Row\n",
      "    >>> df = sc.parallelize([ \\\n",
      "    ...     Row(name='Alice', age=5, height=80), \\\n",
      "    ...     Row(name='Alice', age=5, height=80), \\\n",
      "    ...     Row(name='Alice', age=10, height=80)]).toDF()\n",
      "    >>> df.dropDuplicates().show()\n",
      "    +-----+---+------+\n",
      "    | name|age|height|\n",
      "    +-----+---+------+\n",
      "    |Alice|  5|    80|\n",
      "    |Alice| 10|    80|\n",
      "    +-----+---+------+\n",
      "    \n",
      "    >>> df.dropDuplicates(['name', 'height']).show()\n",
      "    +-----+---+------+\n",
      "    | name|age|height|\n",
      "    +-----+---+------+\n",
      "    |Alice|  5|    80|\n",
      "    +-----+---+------+\n",
      "\n"
     ]
    }
   ],
   "source": [
    "help(df.dropDuplicates)"
   ]
  },
  {
   "cell_type": "code",
   "execution_count": 14,
   "id": "44b812df",
   "metadata": {},
   "outputs": [
    {
     "name": "stdout",
     "output_type": "stream",
     "text": [
      "+---+---------+------+------+\n",
      "| id|     name|gender|salary|\n",
      "+---+---------+------+------+\n",
      "|  3|akshainie|female|  3500|\n",
      "|  1|     srik|  male|  2000|\n",
      "+---+---------+------+------+\n",
      "\n"
     ]
    }
   ],
   "source": [
    "df.dropDuplicates(['gender']).show()"
   ]
  },
  {
   "cell_type": "code",
   "execution_count": 16,
   "id": "de7a1400",
   "metadata": {},
   "outputs": [
    {
     "name": "stdout",
     "output_type": "stream",
     "text": [
      "root\n",
      " |-- id: long (nullable = true)\n",
      " |-- name: string (nullable = true)\n",
      " |-- gender: string (nullable = true)\n",
      " |-- salary: long (nullable = true)\n",
      " |-- Dept: string (nullable = true)\n",
      "\n",
      "+---+---------+------+------+---------+\n",
      "| id|     name|gender|salary|     Dept|\n",
      "+---+---------+------+------+---------+\n",
      "|  1|     srik|  male|  2000|       IT|\n",
      "|  2|     manu|  male|  3000|       HR|\n",
      "|  2|     manu|  male|  3000|Marketing|\n",
      "|  3|akshainie|female|  3500|  Finance|\n",
      "+---+---------+------+------+---------+\n",
      "\n"
     ]
    }
   ],
   "source": [
    "data = [(1,'srik','male',2000,'IT'),(2,'manu','male',3000,'HR'),(2,'manu','male',3000,'Marketing'),(3,'akshainie','female',3500,'Finance')]                                         \n",
    "schema = ['id','name','gender','salary','Dept']\n",
    "\n",
    "df1 = spark.createDataFrame(data,schema)\n",
    "\n",
    "df1.printSchema()\n",
    "\n",
    "df1.show()"
   ]
  },
  {
   "cell_type": "code",
   "execution_count": 18,
   "id": "39fcf7d2",
   "metadata": {
    "collapsed": true
   },
   "outputs": [
    {
     "name": "stdout",
     "output_type": "stream",
     "text": [
      "Help on method sort in module pyspark.sql.dataframe:\n",
      "\n",
      "sort(*cols, **kwargs) method of pyspark.sql.dataframe.DataFrame instance\n",
      "    Returns a new :class:`DataFrame` sorted by the specified column(s).\n",
      "    \n",
      "    .. versionadded:: 1.3.0\n",
      "    \n",
      "    Parameters\n",
      "    ----------\n",
      "    cols : str, list, or :class:`Column`, optional\n",
      "         list of :class:`Column` or column names to sort by.\n",
      "    \n",
      "    Other Parameters\n",
      "    ----------------\n",
      "    ascending : bool or list, optional\n",
      "        boolean or list of boolean (default ``True``).\n",
      "        Sort ascending vs. descending. Specify list for multiple sort orders.\n",
      "        If a list is specified, length of the list must equal length of the `cols`.\n",
      "    \n",
      "    Examples\n",
      "    --------\n",
      "    >>> df.sort(df.age.desc()).collect()\n",
      "    [Row(age=5, name='Bob'), Row(age=2, name='Alice')]\n",
      "    >>> df.sort(\"age\", ascending=False).collect()\n",
      "    [Row(age=5, name='Bob'), Row(age=2, name='Alice')]\n",
      "    >>> df.orderBy(df.age.desc()).collect()\n",
      "    [Row(age=5, name='Bob'), Row(age=2, name='Alice')]\n",
      "    >>> from pyspark.sql.functions import *\n",
      "    >>> df.sort(asc(\"age\")).collect()\n",
      "    [Row(age=2, name='Alice'), Row(age=5, name='Bob')]\n",
      "    >>> df.orderBy(desc(\"age\"), \"name\").collect()\n",
      "    [Row(age=5, name='Bob'), Row(age=2, name='Alice')]\n",
      "    >>> df.orderBy([\"age\", \"name\"], ascending=[0, 1]).collect()\n",
      "    [Row(age=5, name='Bob'), Row(age=2, name='Alice')]\n",
      "\n"
     ]
    }
   ],
   "source": [
    "help(df1.sort)"
   ]
  },
  {
   "cell_type": "code",
   "execution_count": 22,
   "id": "8584130d",
   "metadata": {},
   "outputs": [
    {
     "name": "stdout",
     "output_type": "stream",
     "text": [
      "+---+---------+------+------+---------+\n",
      "| id|     name|gender|salary|     Dept|\n",
      "+---+---------+------+------+---------+\n",
      "|  2|     manu|  male|  3000|Marketing|\n",
      "|  1|     srik|  male|  2000|       IT|\n",
      "|  2|     manu|  male|  3000|       HR|\n",
      "|  3|akshainie|female|  3500|  Finance|\n",
      "+---+---------+------+------+---------+\n",
      "\n"
     ]
    }
   ],
   "source": [
    "df1.sort(df1.Dept.desc()).show()"
   ]
  },
  {
   "cell_type": "code",
   "execution_count": 23,
   "id": "e473fbe6",
   "metadata": {},
   "outputs": [
    {
     "name": "stdout",
     "output_type": "stream",
     "text": [
      "+---+---------+------+------+---------+\n",
      "| id|     name|gender|salary|     Dept|\n",
      "+---+---------+------+------+---------+\n",
      "|  3|akshainie|female|  3500|  Finance|\n",
      "|  2|     manu|  male|  3000|       HR|\n",
      "|  1|     srik|  male|  2000|       IT|\n",
      "|  2|     manu|  male|  3000|Marketing|\n",
      "+---+---------+------+------+---------+\n",
      "\n"
     ]
    }
   ],
   "source": [
    "df1.sort(df1.Dept).show()"
   ]
  },
  {
   "cell_type": "code",
   "execution_count": 24,
   "id": "ab6879de",
   "metadata": {},
   "outputs": [
    {
     "name": "stdout",
     "output_type": "stream",
     "text": [
      "+---+---------+------+------+---------+\n",
      "| id|     name|gender|salary|     Dept|\n",
      "+---+---------+------+------+---------+\n",
      "|  3|akshainie|female|  3500|  Finance|\n",
      "|  2|     manu|  male|  3000|       HR|\n",
      "|  1|     srik|  male|  2000|       IT|\n",
      "|  2|     manu|  male|  3000|Marketing|\n",
      "+---+---------+------+------+---------+\n",
      "\n"
     ]
    }
   ],
   "source": [
    "df1.sort(df1.Dept,df1.id).show()"
   ]
  },
  {
   "cell_type": "code",
   "execution_count": 25,
   "id": "3bb21966",
   "metadata": {},
   "outputs": [
    {
     "name": "stdout",
     "output_type": "stream",
     "text": [
      "+---+---------+------+------+---------+\n",
      "| id|     name|gender|salary|     Dept|\n",
      "+---+---------+------+------+---------+\n",
      "|  2|     manu|  male|  3000|Marketing|\n",
      "|  1|     srik|  male|  2000|       IT|\n",
      "|  2|     manu|  male|  3000|       HR|\n",
      "|  3|akshainie|female|  3500|  Finance|\n",
      "+---+---------+------+------+---------+\n",
      "\n"
     ]
    }
   ],
   "source": [
    "df1.sort(df1.Dept.desc(),df1.id.asc()).show()"
   ]
  },
  {
   "cell_type": "code",
   "execution_count": 26,
   "id": "fa9e60c1",
   "metadata": {},
   "outputs": [
    {
     "name": "stdout",
     "output_type": "stream",
     "text": [
      "+---+---------+------+------+---------+\n",
      "| id|     name|gender|salary|     Dept|\n",
      "+---+---------+------+------+---------+\n",
      "|  3|akshainie|female|  3500|  Finance|\n",
      "|  2|     manu|  male|  3000|       HR|\n",
      "|  1|     srik|  male|  2000|       IT|\n",
      "|  2|     manu|  male|  3000|Marketing|\n",
      "+---+---------+------+------+---------+\n",
      "\n"
     ]
    }
   ],
   "source": [
    "df1.orderBy(df1.Dept.asc()).show()\n"
   ]
  },
  {
   "cell_type": "code",
   "execution_count": 27,
   "id": "92065677",
   "metadata": {},
   "outputs": [
    {
     "name": "stdout",
     "output_type": "stream",
     "text": [
      "+---+---------+------+------+---------+\n",
      "| id|     name|gender|salary|     Dept|\n",
      "+---+---------+------+------+---------+\n",
      "|  2|     manu|  male|  3000|Marketing|\n",
      "|  1|     srik|  male|  2000|       IT|\n",
      "|  2|     manu|  male|  3000|       HR|\n",
      "|  3|akshainie|female|  3500|  Finance|\n",
      "+---+---------+------+------+---------+\n",
      "\n"
     ]
    }
   ],
   "source": [
    "df1.orderBy(df1.Dept.desc(),df1.id.asc()).show()"
   ]
  },
  {
   "cell_type": "code",
   "execution_count": null,
   "id": "d1325fb2",
   "metadata": {},
   "outputs": [],
   "source": []
  }
 ],
 "metadata": {
  "kernelspec": {
   "display_name": "Python 3 (ipykernel)",
   "language": "python",
   "name": "python3"
  },
  "language_info": {
   "codemirror_mode": {
    "name": "ipython",
    "version": 3
   },
   "file_extension": ".py",
   "mimetype": "text/x-python",
   "name": "python",
   "nbconvert_exporter": "python",
   "pygments_lexer": "ipython3",
   "version": "3.9.13"
  }
 },
 "nbformat": 4,
 "nbformat_minor": 5
}
