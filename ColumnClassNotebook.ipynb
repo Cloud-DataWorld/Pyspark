{
 "cells": [
  {
   "cell_type": "code",
   "execution_count": 1,
   "id": "302b8aed",
   "metadata": {},
   "outputs": [],
   "source": [
    "import findspark\n",
    "findspark.init()\n",
    "\n",
    "from pyspark.sql import SparkSession\n",
    "\n",
    "spark = SparkSession.builder.getOrCreate()"
   ]
  },
  {
   "cell_type": "code",
   "execution_count": 3,
   "id": "9f8d7145",
   "metadata": {},
   "outputs": [
    {
     "name": "stdout",
     "output_type": "stream",
     "text": [
      "<class 'pyspark.sql.column.Column'>\n"
     ]
    }
   ],
   "source": [
    "from pyspark.sql.functions import lit\n",
    "\n",
    "col1 = lit('Test_Column')\n",
    "\n",
    "print(type(col1))"
   ]
  },
  {
   "cell_type": "code",
   "execution_count": 4,
   "id": "2b15345b",
   "metadata": {},
   "outputs": [
    {
     "name": "stdout",
     "output_type": "stream",
     "text": [
      "root\n",
      " |-- Name: string (nullable = true)\n",
      " |-- Gender: string (nullable = true)\n",
      " |-- Salary: long (nullable = true)\n",
      "\n",
      "+--------+------+------+\n",
      "|Name    |Gender|Salary|\n",
      "+--------+------+------+\n",
      "|Srikanth|M     |2000  |\n",
      "|Manu    |M     |3000  |\n",
      "+--------+------+------+\n",
      "\n"
     ]
    }
   ],
   "source": [
    "data = [('Srikanth','M',2000),('Manu','M',3000)]\n",
    "\n",
    "schema = ['Name','Gender','Salary']\n",
    "\n",
    "df = spark.createDataFrame(data=data,schema=schema)\n",
    "\n",
    "df.printSchema()\n",
    "\n",
    "df.show(truncate=False)"
   ]
  },
  {
   "cell_type": "code",
   "execution_count": 5,
   "id": "0866fc99",
   "metadata": {},
   "outputs": [
    {
     "name": "stdout",
     "output_type": "stream",
     "text": [
      "root\n",
      " |-- Name: string (nullable = true)\n",
      " |-- Gender: string (nullable = true)\n",
      " |-- Salary: long (nullable = true)\n",
      " |-- NewCol: string (nullable = false)\n",
      "\n",
      "+--------+------+------+-----------+\n",
      "|Name    |Gender|Salary|NewCol     |\n",
      "+--------+------+------+-----------+\n",
      "|Srikanth|M     |2000  |NewColValue|\n",
      "|Manu    |M     |3000  |NewColValue|\n",
      "+--------+------+------+-----------+\n",
      "\n"
     ]
    }
   ],
   "source": [
    "df1 = df.withColumn('NewCol',lit('NewColValue'))\n",
    "df1.printSchema()\n",
    "df1.show(truncate=False)"
   ]
  },
  {
   "cell_type": "code",
   "execution_count": 10,
   "id": "c157481c",
   "metadata": {},
   "outputs": [
    {
     "name": "stdout",
     "output_type": "stream",
     "text": [
      "+--------+\n",
      "|    Name|\n",
      "+--------+\n",
      "|Srikanth|\n",
      "|    Manu|\n",
      "+--------+\n",
      "\n",
      "+------+\n",
      "|Gender|\n",
      "+------+\n",
      "|     M|\n",
      "|     M|\n",
      "+------+\n",
      "\n",
      "+------+\n",
      "|Salary|\n",
      "+------+\n",
      "|  2000|\n",
      "|  3000|\n",
      "+------+\n",
      "\n"
     ]
    }
   ],
   "source": [
    "#you can access columns in multiple ways\n",
    "\n",
    "from pyspark.sql.functions import col\n",
    "\n",
    "df1.select(df1.Name).show()\n",
    "df1.select(df1['Gender']).show()\n",
    "df1.select(col('Salary')).show()"
   ]
  },
  {
   "cell_type": "code",
   "execution_count": 17,
   "id": "a493af32",
   "metadata": {},
   "outputs": [
    {
     "name": "stdout",
     "output_type": "stream",
     "text": [
      "+---------+------+------+--------------+\n",
      "|Name     |Gender|Salary|Props         |\n",
      "+---------+------+------+--------------+\n",
      "|Sri      |M     |2000  |{Black, Blue} |\n",
      "|Akshainie|F     |4000  |{Black, Black}|\n",
      "+---------+------+------+--------------+\n",
      "\n",
      "root\n",
      " |-- Name: string (nullable = true)\n",
      " |-- Gender: string (nullable = true)\n",
      " |-- Salary: integer (nullable = true)\n",
      " |-- Props: struct (nullable = true)\n",
      " |    |-- Hair: string (nullable = true)\n",
      " |    |-- Eyes: string (nullable = true)\n",
      "\n"
     ]
    }
   ],
   "source": [
    "from pyspark.sql.types import StructType,StructField,StringType,IntegerType\n",
    "\n",
    "data = [('Sri','M',2000,('Black','Blue')),('Akshainie','F',4000,('Black','Black'))]\n",
    "\n",
    "\n",
    "properties = StructType([StructField('Hair',StringType()),\\\n",
    "            StructField('Eyes',StringType())])\n",
    "\n",
    "schema = StructType([StructField('Name',StringType()), \\\n",
    "                    StructField('Gender',StringType()), \\\n",
    "                    StructField('Salary',IntegerType()), \\\n",
    "                    StructField('Props',properties)])\n",
    "                                           \n",
    "df2 = spark.createDataFrame(data,schema)\n",
    "                                           \n",
    "df2.show(truncate=False)\n",
    "                                           \n",
    "df2.printSchema()                                           \n",
    "                                           "
   ]
  },
  {
   "cell_type": "code",
   "execution_count": 18,
   "id": "2bd6324a",
   "metadata": {},
   "outputs": [
    {
     "name": "stdout",
     "output_type": "stream",
     "text": [
      "+----------+----------+\n",
      "|Props.Eyes|Props.Hair|\n",
      "+----------+----------+\n",
      "|      Blue|     Black|\n",
      "|     Black|     Black|\n",
      "+----------+----------+\n",
      "\n"
     ]
    }
   ],
   "source": [
    "df2.select(df2.Props.Eyes,df2.Props.Hair).show()"
   ]
  },
  {
   "cell_type": "code",
   "execution_count": 20,
   "id": "c11a66e7",
   "metadata": {},
   "outputs": [
    {
     "name": "stdout",
     "output_type": "stream",
     "text": [
      "+-----+-----+\n",
      "| Eyes| Hair|\n",
      "+-----+-----+\n",
      "| Blue|Black|\n",
      "|Black|Black|\n",
      "+-----+-----+\n",
      "\n"
     ]
    }
   ],
   "source": [
    "df2.select(df2['Props.Eyes'],df2['Props.Hair']).show()"
   ]
  },
  {
   "cell_type": "code",
   "execution_count": 23,
   "id": "9eb2eac0",
   "metadata": {},
   "outputs": [
    {
     "name": "stdout",
     "output_type": "stream",
     "text": [
      "+-----+-----+\n",
      "| Eyes| Hair|\n",
      "+-----+-----+\n",
      "| Blue|Black|\n",
      "|Black|Black|\n",
      "+-----+-----+\n",
      "\n"
     ]
    }
   ],
   "source": [
    "from pyspark.sql.functions import col\n",
    "\n",
    "df2.select(col('Props.Eyes'),col('Props.Hair')).show()"
   ]
  },
  {
   "cell_type": "code",
   "execution_count": null,
   "id": "4f2796a3",
   "metadata": {},
   "outputs": [],
   "source": []
  }
 ],
 "metadata": {
  "kernelspec": {
   "display_name": "Python 3 (ipykernel)",
   "language": "python",
   "name": "python3"
  },
  "language_info": {
   "codemirror_mode": {
    "name": "ipython",
    "version": 3
   },
   "file_extension": ".py",
   "mimetype": "text/x-python",
   "name": "python",
   "nbconvert_exporter": "python",
   "pygments_lexer": "ipython3",
   "version": "3.9.13"
  }
 },
 "nbformat": 4,
 "nbformat_minor": 5
}
