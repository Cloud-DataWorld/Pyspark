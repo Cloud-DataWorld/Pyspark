{
 "cells": [
  {
   "cell_type": "code",
   "execution_count": 1,
   "id": "0233aeb2",
   "metadata": {},
   "outputs": [],
   "source": [
    "import findspark\n",
    "findspark.init()"
   ]
  },
  {
   "cell_type": "code",
   "execution_count": 2,
   "id": "2028bbe1",
   "metadata": {},
   "outputs": [],
   "source": [
    "from pyspark.sql import SparkSession\n",
    "\n",
    "from pyspark.sql.types import StructType, StructField,IntegerType,StringType"
   ]
  },
  {
   "cell_type": "code",
   "execution_count": 3,
   "id": "7b17757b",
   "metadata": {},
   "outputs": [],
   "source": [
    "spark = SparkSession.builder.getOrCreate()"
   ]
  },
  {
   "cell_type": "code",
   "execution_count": 11,
   "id": "53e7d9b3",
   "metadata": {},
   "outputs": [
    {
     "name": "stdout",
     "output_type": "stream",
     "text": [
      "+---+---------+----+\n",
      "| _1|       _2|  _3|\n",
      "+---+---------+----+\n",
      "|  1| Srikanth|3000|\n",
      "|  2|  Manvith|2000|\n",
      "|  3|Akshainie|1000|\n",
      "+---+---------+----+\n",
      "\n",
      "root\n",
      " |-- _1: long (nullable = true)\n",
      " |-- _2: string (nullable = true)\n",
      " |-- _3: long (nullable = true)\n",
      "\n"
     ]
    }
   ],
   "source": [
    "data = [(1,'Srikanth',3000),(2,'Manvith',2000),(3,'Akshainie',1000)]\n",
    "\n",
    "df = spark.createDataFrame(data)\n",
    "\n",
    "df.show()\n",
    "\n",
    "df.printSchema()"
   ]
  },
  {
   "cell_type": "code",
   "execution_count": 13,
   "id": "02ddceab",
   "metadata": {},
   "outputs": [
    {
     "name": "stdout",
     "output_type": "stream",
     "text": [
      "+---+---------+------+\n",
      "| ID|     Name|Salary|\n",
      "+---+---------+------+\n",
      "|  1| Srikanth|  3000|\n",
      "|  2|  Manvith|  2000|\n",
      "|  3|Akshainie|  1000|\n",
      "+---+---------+------+\n",
      "\n",
      "root\n",
      " |-- ID: long (nullable = true)\n",
      " |-- Name: string (nullable = true)\n",
      " |-- Salary: long (nullable = true)\n",
      "\n"
     ]
    }
   ],
   "source": [
    "schema =[ 'ID','Name','Salary']\n",
    "\n",
    "df2 = spark.createDataFrame(data, schema)\n",
    "\n",
    "df2.show()\n",
    "\n",
    "df2.printSchema()"
   ]
  },
  {
   "cell_type": "code",
   "execution_count": 18,
   "id": "3b200172",
   "metadata": {},
   "outputs": [
    {
     "name": "stdout",
     "output_type": "stream",
     "text": [
      "+---+---------+------+\n",
      "| ID|     Name|Salary|\n",
      "+---+---------+------+\n",
      "|  1| Srikanth|  3000|\n",
      "|  2|  Manvith|  2000|\n",
      "|  3|Akshainie|  1000|\n",
      "+---+---------+------+\n",
      "\n",
      "root\n",
      " |-- ID: integer (nullable = true)\n",
      " |-- Name: string (nullable = true)\n",
      " |-- Salary: integer (nullable = true)\n",
      "\n"
     ]
    }
   ],
   "source": [
    "cust_schema = StructType([StructField(name='ID',dataType=IntegerType()),\\\n",
    "                          StructField(name='Name',dataType=StringType()),\\\n",
    "                          StructField(name='Salary',dataType=IntegerType())])\n",
    "\n",
    "df3 = spark.createDataFrame(data,cust_schema)\n",
    "\n",
    "df3.show()\n",
    "\n",
    "df3.printSchema()"
   ]
  },
  {
   "cell_type": "code",
   "execution_count": 19,
   "id": "a3e43ed1",
   "metadata": {},
   "outputs": [
    {
     "name": "stdout",
     "output_type": "stream",
     "text": [
      "root\n",
      " |-- ID: integer (nullable = true)\n",
      " |-- Name: struct (nullable = true)\n",
      " |    |-- Fname: string (nullable = true)\n",
      " |    |-- Lname: string (nullable = true)\n",
      " |-- Salary: integer (nullable = true)\n",
      "\n",
      "+---+------------------+------+\n",
      "| ID|              Name|Salary|\n",
      "+---+------------------+------+\n",
      "|  1|{Srikanth, Parsha}|  3000|\n",
      "|  2| {Manvith, Parsha}|  2000|\n",
      "+---+------------------+------+\n",
      "\n"
     ]
    }
   ],
   "source": [
    "complex_data = [(1,('Srikanth','Parsha'),3000),(2,('Manvith','Parsha'),2000)]\n",
    "\n",
    "structName = StructType([StructField('Fname',StringType()),\\\n",
    "                         StructField('Lname',StringType())])\n",
    "\n",
    "complex_schema = StructType([StructField(name='ID',dataType=IntegerType()),\\\n",
    "                          StructField(name='Name',dataType=structName),\\\n",
    "                          StructField(name='Salary',dataType=IntegerType())])\n",
    "\n",
    "df4 = spark.createDataFrame(complex_data,complex_schema)\n",
    "\n",
    "df4.printSchema()\n",
    "\n",
    "df4.show()"
   ]
  },
  {
   "cell_type": "code",
   "execution_count": 20,
   "id": "5b13ff03",
   "metadata": {},
   "outputs": [
    {
     "data": {
      "text/plain": [
       "DataFrame[ID: int, Name: struct<Fname:string,Lname:string>, Salary: int]"
      ]
     },
     "metadata": {},
     "output_type": "display_data"
    }
   ],
   "source": [
    "display(df4)"
   ]
  },
  {
   "cell_type": "code",
   "execution_count": null,
   "id": "dd5bc187",
   "metadata": {},
   "outputs": [],
   "source": []
  }
 ],
 "metadata": {
  "kernelspec": {
   "display_name": "Python 3 (ipykernel)",
   "language": "python",
   "name": "python3"
  },
  "language_info": {
   "codemirror_mode": {
    "name": "ipython",
    "version": 3
   },
   "file_extension": ".py",
   "mimetype": "text/x-python",
   "name": "python",
   "nbconvert_exporter": "python",
   "pygments_lexer": "ipython3",
   "version": "3.9.13"
  }
 },
 "nbformat": 4,
 "nbformat_minor": 5
}
