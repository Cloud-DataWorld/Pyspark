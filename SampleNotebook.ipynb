{
 "cells": [
  {
   "cell_type": "code",
   "execution_count": 1,
   "id": "246115f5",
   "metadata": {},
   "outputs": [],
   "source": [
    "import findspark\n",
    "\n",
    "findspark.init()\n",
    "\n",
    "from pyspark.sql import SparkSession\n",
    "\n",
    "spark = SparkSession.builder.getOrCreate()"
   ]
  },
  {
   "cell_type": "code",
   "execution_count": 2,
   "id": "98b86599",
   "metadata": {},
   "outputs": [
    {
     "name": "stdout",
     "output_type": "stream",
     "text": [
      "+---+\n",
      "| id|\n",
      "+---+\n",
      "|  1|\n",
      "|  2|\n",
      "|  3|\n",
      "|  4|\n",
      "|  5|\n",
      "|  6|\n",
      "|  7|\n",
      "|  8|\n",
      "|  9|\n",
      "| 10|\n",
      "| 11|\n",
      "| 12|\n",
      "| 13|\n",
      "| 14|\n",
      "| 15|\n",
      "| 16|\n",
      "| 17|\n",
      "| 18|\n",
      "| 19|\n",
      "| 20|\n",
      "+---+\n",
      "only showing top 20 rows\n",
      "\n"
     ]
    }
   ],
   "source": [
    "df = spark.range(start=1,end=101)\n",
    "df.show()"
   ]
  },
  {
   "cell_type": "code",
   "execution_count": 3,
   "id": "66338a3b",
   "metadata": {},
   "outputs": [
    {
     "name": "stdout",
     "output_type": "stream",
     "text": [
      "Help on method sample in module pyspark.sql.dataframe:\n",
      "\n",
      "sample(withReplacement=None, fraction=None, seed=None) method of pyspark.sql.dataframe.DataFrame instance\n",
      "    Returns a sampled subset of this :class:`DataFrame`.\n",
      "    \n",
      "    .. versionadded:: 1.3.0\n",
      "    \n",
      "    Parameters\n",
      "    ----------\n",
      "    withReplacement : bool, optional\n",
      "        Sample with replacement or not (default ``False``).\n",
      "    fraction : float, optional\n",
      "        Fraction of rows to generate, range [0.0, 1.0].\n",
      "    seed : int, optional\n",
      "        Seed for sampling (default a random seed).\n",
      "    \n",
      "    Notes\n",
      "    -----\n",
      "    This is not guaranteed to provide exactly the fraction specified of the total\n",
      "    count of the given :class:`DataFrame`.\n",
      "    \n",
      "    `fraction` is required and, `withReplacement` and `seed` are optional.\n",
      "    \n",
      "    Examples\n",
      "    --------\n",
      "    >>> df = spark.range(10)\n",
      "    >>> df.sample(0.5, 3).count()\n",
      "    7\n",
      "    >>> df.sample(fraction=0.5, seed=3).count()\n",
      "    7\n",
      "    >>> df.sample(withReplacement=True, fraction=0.5, seed=3).count()\n",
      "    1\n",
      "    >>> df.sample(1.0).count()\n",
      "    10\n",
      "    >>> df.sample(fraction=1.0).count()\n",
      "    10\n",
      "    >>> df.sample(False, fraction=1.0).count()\n",
      "    10\n",
      "\n"
     ]
    }
   ],
   "source": [
    "help(df.sample)"
   ]
  },
  {
   "cell_type": "code",
   "execution_count": 5,
   "id": "644c0bde",
   "metadata": {},
   "outputs": [
    {
     "data": {
      "text/plain": [
       "DataFrame[id: bigint]"
      ]
     },
     "metadata": {},
     "output_type": "display_data"
    },
    {
     "name": "stdout",
     "output_type": "stream",
     "text": [
      "+---+\n",
      "| id|\n",
      "+---+\n",
      "| 15|\n",
      "| 19|\n",
      "| 24|\n",
      "| 28|\n",
      "| 33|\n",
      "| 43|\n",
      "| 62|\n",
      "| 63|\n",
      "| 66|\n",
      "| 73|\n",
      "| 76|\n",
      "| 79|\n",
      "| 84|\n",
      "+---+\n",
      "\n"
     ]
    }
   ],
   "source": [
    "df1 = df.sample(fraction=0.1)\n",
    "display(df1)\n",
    "df1.show()"
   ]
  },
  {
   "cell_type": "code",
   "execution_count": 7,
   "id": "df9c3b8e",
   "metadata": {},
   "outputs": [
    {
     "name": "stdout",
     "output_type": "stream",
     "text": [
      "+---+\n",
      "| id|\n",
      "+---+\n",
      "|  3|\n",
      "| 10|\n",
      "| 17|\n",
      "| 32|\n",
      "| 35|\n",
      "| 36|\n",
      "| 43|\n",
      "| 44|\n",
      "| 45|\n",
      "| 53|\n",
      "| 62|\n",
      "| 65|\n",
      "| 75|\n",
      "| 77|\n",
      "| 89|\n",
      "+---+\n",
      "\n"
     ]
    }
   ],
   "source": [
    "df2 = df.sample(fraction=0.1)\n",
    "\n",
    "df2.show()"
   ]
  },
  {
   "cell_type": "code",
   "execution_count": 8,
   "id": "8c93dea3",
   "metadata": {},
   "outputs": [
    {
     "name": "stdout",
     "output_type": "stream",
     "text": [
      "+---+\n",
      "| id|\n",
      "+---+\n",
      "| 36|\n",
      "| 39|\n",
      "| 42|\n",
      "| 46|\n",
      "| 72|\n",
      "| 85|\n",
      "| 88|\n",
      "|100|\n",
      "+---+\n",
      "\n",
      "+---+\n",
      "| id|\n",
      "+---+\n",
      "| 36|\n",
      "| 39|\n",
      "| 42|\n",
      "| 46|\n",
      "| 72|\n",
      "| 85|\n",
      "| 88|\n",
      "|100|\n",
      "+---+\n",
      "\n"
     ]
    }
   ],
   "source": [
    "df1 = df.sample(fraction=0.1,seed=123)\n",
    "df2 = df.sample(fraction=0.1,seed=123)\n",
    "\n",
    "\n",
    "df1.show()\n",
    "df2.show()"
   ]
  },
  {
   "cell_type": "code",
   "execution_count": null,
   "id": "d810ac1c",
   "metadata": {},
   "outputs": [],
   "source": []
  }
 ],
 "metadata": {
  "kernelspec": {
   "display_name": "Python 3 (ipykernel)",
   "language": "python",
   "name": "python3"
  },
  "language_info": {
   "codemirror_mode": {
    "name": "ipython",
    "version": 3
   },
   "file_extension": ".py",
   "mimetype": "text/x-python",
   "name": "python",
   "nbconvert_exporter": "python",
   "pygments_lexer": "ipython3",
   "version": "3.9.13"
  }
 },
 "nbformat": 4,
 "nbformat_minor": 5
}
