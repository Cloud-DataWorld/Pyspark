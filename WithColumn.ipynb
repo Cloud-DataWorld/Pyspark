{
 "cells": [
  {
   "cell_type": "code",
   "execution_count": 4,
   "id": "2e232aa8",
   "metadata": {},
   "outputs": [],
   "source": [
    "import findspark"
   ]
  },
  {
   "cell_type": "code",
   "execution_count": 5,
   "id": "f1cc447c",
   "metadata": {},
   "outputs": [],
   "source": [
    "findspark.init()\n",
    "\n",
    "from pyspark.sql import SparkSession\n",
    "\n",
    "spark =  SparkSession.builder.getOrCreate()"
   ]
  },
  {
   "cell_type": "code",
   "execution_count": 8,
   "id": "f8efdd5f",
   "metadata": {},
   "outputs": [
    {
     "name": "stdout",
     "output_type": "stream",
     "text": [
      "+---+------------------+------+\n",
      "|ID |Name              |Salary|\n",
      "+---+------------------+------+\n",
      "|1  |slkfkjshfdkjlhdk  |30000 |\n",
      "|2  |kdhflkdshflkhdlkjf|8987  |\n",
      "|3  |udgfiuiewrui      |876876|\n",
      "+---+------------------+------+\n",
      "\n"
     ]
    }
   ],
   "source": [
    "data = [(1,'slkfkjshfdkjlhdk','30000'),(2,'kdhflkdshflkhdlkjf','8987'),(3,'udgfiuiewrui','876876')]\n",
    "\n",
    "schema = ['ID','Name','Salary']\n",
    "\n",
    "df = spark.createDataFrame(data=data,schema=schema)\n",
    "\n",
    "df.show(n=3,truncate=False)"
   ]
  },
  {
   "cell_type": "code",
   "execution_count": 9,
   "id": "288064e2",
   "metadata": {},
   "outputs": [
    {
     "name": "stdout",
     "output_type": "stream",
     "text": [
      "root\n",
      " |-- ID: long (nullable = true)\n",
      " |-- Name: string (nullable = true)\n",
      " |-- Salary: string (nullable = true)\n",
      "\n"
     ]
    }
   ],
   "source": [
    "df.printSchema()"
   ]
  },
  {
   "cell_type": "code",
   "execution_count": 10,
   "id": "552f4a13",
   "metadata": {
    "collapsed": true
   },
   "outputs": [
    {
     "name": "stdout",
     "output_type": "stream",
     "text": [
      "Help on method withColumn in module pyspark.sql.dataframe:\n",
      "\n",
      "withColumn(colName, col) method of pyspark.sql.dataframe.DataFrame instance\n",
      "    Returns a new :class:`DataFrame` by adding a column or replacing the\n",
      "    existing column that has the same name.\n",
      "    \n",
      "    The column expression must be an expression over this :class:`DataFrame`; attempting to add\n",
      "    a column from some other :class:`DataFrame` will raise an error.\n",
      "    \n",
      "    .. versionadded:: 1.3.0\n",
      "    \n",
      "    Parameters\n",
      "    ----------\n",
      "    colName : str\n",
      "        string, name of the new column.\n",
      "    col : :class:`Column`\n",
      "        a :class:`Column` expression for the new column.\n",
      "    \n",
      "    Notes\n",
      "    -----\n",
      "    This method introduces a projection internally. Therefore, calling it multiple\n",
      "    times, for instance, via loops in order to add multiple columns can generate big\n",
      "    plans which can cause performance issues and even `StackOverflowException`.\n",
      "    To avoid this, use :func:`select` with the multiple columns at once.\n",
      "    \n",
      "    Examples\n",
      "    --------\n",
      "    >>> df.withColumn('age2', df.age + 2).collect()\n",
      "    [Row(age=2, name='Alice', age2=4), Row(age=5, name='Bob', age2=7)]\n",
      "\n"
     ]
    }
   ],
   "source": [
    "# help(df.withColumn)"
   ]
  },
  {
   "cell_type": "code",
   "execution_count": 11,
   "id": "39a029f7",
   "metadata": {},
   "outputs": [
    {
     "name": "stdout",
     "output_type": "stream",
     "text": [
      "+---+------------------+------+\n",
      "| ID|              Name|Salary|\n",
      "+---+------------------+------+\n",
      "|  1|  slkfkjshfdkjlhdk| 30000|\n",
      "|  2|kdhflkdshflkhdlkjf|  8987|\n",
      "|  3|      udgfiuiewrui|876876|\n",
      "+---+------------------+------+\n",
      "\n",
      "root\n",
      " |-- ID: long (nullable = true)\n",
      " |-- Name: string (nullable = true)\n",
      " |-- Salary: integer (nullable = true)\n",
      "\n"
     ]
    }
   ],
   "source": [
    "from pyspark.sql.functions import col\n",
    "\n",
    "df1 = df.withColumn(colName='Salary',col=col('Salary').cast('Integer'))\n",
    "\n",
    "df1.show()\n",
    "\n",
    "df1.printSchema()"
   ]
  },
  {
   "cell_type": "code",
   "execution_count": 12,
   "id": "5c8bd76c",
   "metadata": {},
   "outputs": [
    {
     "name": "stdout",
     "output_type": "stream",
     "text": [
      "+---+------------------+-------+\n",
      "| ID|              Name| Salary|\n",
      "+---+------------------+-------+\n",
      "|  1|  slkfkjshfdkjlhdk|  60000|\n",
      "|  2|kdhflkdshflkhdlkjf|  17974|\n",
      "|  3|      udgfiuiewrui|1753752|\n",
      "+---+------------------+-------+\n",
      "\n"
     ]
    }
   ],
   "source": [
    "df2 = df1.withColumn(colName='Salary',col=col('Salary')*2)\n",
    "\n",
    "df2.show()"
   ]
  },
  {
   "cell_type": "code",
   "execution_count": 14,
   "id": "a9a2fdbe",
   "metadata": {},
   "outputs": [
    {
     "name": "stdout",
     "output_type": "stream",
     "text": [
      "+---+------------------+-------+-------+\n",
      "| ID|              Name| Salary|Country|\n",
      "+---+------------------+-------+-------+\n",
      "|  1|  slkfkjshfdkjlhdk|  60000|  India|\n",
      "|  2|kdhflkdshflkhdlkjf|  17974|  India|\n",
      "|  3|      udgfiuiewrui|1753752|  India|\n",
      "+---+------------------+-------+-------+\n",
      "\n"
     ]
    }
   ],
   "source": [
    "from pyspark.sql.functions import lit\n",
    "\n",
    "df3 = df2.withColumn(colName='Country',col=lit('India'))\n",
    "\n",
    "df3.show()"
   ]
  },
  {
   "cell_type": "code",
   "execution_count": 15,
   "id": "e9f03c2a",
   "metadata": {},
   "outputs": [
    {
     "name": "stdout",
     "output_type": "stream",
     "text": [
      "+---+------------------+-------+-------+------------+\n",
      "| ID|              Name| Salary|Country|copiedSalary|\n",
      "+---+------------------+-------+-------+------------+\n",
      "|  1|  slkfkjshfdkjlhdk|  60000|  India|       60000|\n",
      "|  2|kdhflkdshflkhdlkjf|  17974|  India|       17974|\n",
      "|  3|      udgfiuiewrui|1753752|  India|     1753752|\n",
      "+---+------------------+-------+-------+------------+\n",
      "\n"
     ]
    }
   ],
   "source": [
    "df4= df3.withColumn('copiedSalary',col('Salary'))\n",
    "\n",
    "df4.show()"
   ]
  },
  {
   "cell_type": "code",
   "execution_count": 16,
   "id": "7e827387",
   "metadata": {},
   "outputs": [
    {
     "name": "stdout",
     "output_type": "stream",
     "text": [
      "Help on method withColumnRenamed in module pyspark.sql.dataframe:\n",
      "\n",
      "withColumnRenamed(existing, new) method of pyspark.sql.dataframe.DataFrame instance\n",
      "    Returns a new :class:`DataFrame` by renaming an existing column.\n",
      "    This is a no-op if schema doesn't contain the given column name.\n",
      "    \n",
      "    .. versionadded:: 1.3.0\n",
      "    \n",
      "    Parameters\n",
      "    ----------\n",
      "    existing : str\n",
      "        string, name of the existing column to rename.\n",
      "    new : str\n",
      "        string, new name of the column.\n",
      "    \n",
      "    Examples\n",
      "    --------\n",
      "    >>> df.withColumnRenamed('age', 'age2').collect()\n",
      "    [Row(age2=2, name='Alice'), Row(age2=5, name='Bob')]\n",
      "\n"
     ]
    }
   ],
   "source": [
    "help(df.withColumnRenamed)"
   ]
  },
  {
   "cell_type": "code",
   "execution_count": 17,
   "id": "bc89100a",
   "metadata": {},
   "outputs": [
    {
     "name": "stdout",
     "output_type": "stream",
     "text": [
      "root\n",
      " |-- ID: long (nullable = true)\n",
      " |-- Name: string (nullable = true)\n",
      " |-- Salary: string (nullable = true)\n",
      "\n"
     ]
    }
   ],
   "source": [
    "df.printSchema()"
   ]
  },
  {
   "cell_type": "code",
   "execution_count": 18,
   "id": "a88d67d5",
   "metadata": {},
   "outputs": [
    {
     "name": "stdout",
     "output_type": "stream",
     "text": [
      "+---+------------------+------+\n",
      "| ID|              Name|Salary|\n",
      "+---+------------------+------+\n",
      "|  1|  slkfkjshfdkjlhdk| 30000|\n",
      "|  2|kdhflkdshflkhdlkjf|  8987|\n",
      "|  3|      udgfiuiewrui|876876|\n",
      "+---+------------------+------+\n",
      "\n"
     ]
    }
   ],
   "source": [
    "df.withColumnRenamed('Salary','Salary_Amount')\n",
    "\n",
    "df.show()"
   ]
  },
  {
   "cell_type": "code",
   "execution_count": 19,
   "id": "e930fb01",
   "metadata": {},
   "outputs": [
    {
     "name": "stdout",
     "output_type": "stream",
     "text": [
      "+---+------------------+-------------+\n",
      "| ID|              Name|Salary_Amount|\n",
      "+---+------------------+-------------+\n",
      "|  1|  slkfkjshfdkjlhdk|        30000|\n",
      "|  2|kdhflkdshflkhdlkjf|         8987|\n",
      "|  3|      udgfiuiewrui|       876876|\n",
      "+---+------------------+-------------+\n",
      "\n"
     ]
    }
   ],
   "source": [
    "df5= df.withColumnRenamed('Salary','Salary_Amount')\n",
    "\n",
    "df5.show()"
   ]
  },
  {
   "cell_type": "code",
   "execution_count": null,
   "id": "2075d57f",
   "metadata": {},
   "outputs": [],
   "source": []
  }
 ],
 "metadata": {
  "kernelspec": {
   "display_name": "Python 3 (ipykernel)",
   "language": "python",
   "name": "python3"
  },
  "language_info": {
   "codemirror_mode": {
    "name": "ipython",
    "version": 3
   },
   "file_extension": ".py",
   "mimetype": "text/x-python",
   "name": "python",
   "nbconvert_exporter": "python",
   "pygments_lexer": "ipython3",
   "version": "3.9.13"
  }
 },
 "nbformat": 4,
 "nbformat_minor": 5
}
