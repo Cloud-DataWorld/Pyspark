{
 "cells": [
  {
   "cell_type": "code",
   "execution_count": 1,
   "id": "bfae5f1c",
   "metadata": {},
   "outputs": [],
   "source": [
    "import findspark\n",
    "findspark.init()\n",
    "\n",
    "from pyspark.sql import SparkSession\n",
    "\n",
    "spark = SparkSession.builder.getOrCreate()"
   ]
  },
  {
   "cell_type": "code",
   "execution_count": 6,
   "id": "a82113be",
   "metadata": {},
   "outputs": [
    {
     "name": "stdout",
     "output_type": "stream",
     "text": [
      "+---+----+------+------+---------+\n",
      "| id|name|gender|salary|     Dept|\n",
      "+---+----+------+------+---------+\n",
      "|  1|srik|  male|  2000|       IT|\n",
      "|  2|manu|  male|  3000|Marketing|\n",
      "|  2|manu|  male|  3000|Marketing|\n",
      "+---+----+------+------+---------+\n",
      "\n",
      "+---+---------+------+------+---------+\n",
      "| id|     name|gender|salary|     Dept|\n",
      "+---+---------+------+------+---------+\n",
      "|  3|akshainie|female|  3500|  Finance|\n",
      "|  4|  Sandhya|Female|  4000|Marketing|\n",
      "+---+---------+------+------+---------+\n",
      "\n"
     ]
    }
   ],
   "source": [
    "data = [(1,'srik','male',2000,'IT'),\\\n",
    "        (2,'manu','male',3000,'Marketing'),\\\n",
    "       (2,'manu','male',3000,'Marketing')] \n",
    "\n",
    "schema = ['id','name','gender','salary','Dept']\n",
    "\n",
    "data1 = [(3,'akshainie','female',3500,'Finance'),\\\n",
    "        (4,'Sandhya','Female',4000,'Marketing')]\n",
    "\n",
    "schema1 = ['id','name','gender','salary','Dept']\n",
    "\n",
    "df = spark.createDataFrame(data,schema)\n",
    "df1 = spark.createDataFrame(data1,schema1)\n",
    "\n",
    "df.show()\n",
    "df1.show()"
   ]
  },
  {
   "cell_type": "code",
   "execution_count": 7,
   "id": "78c3dd9b",
   "metadata": {},
   "outputs": [
    {
     "name": "stdout",
     "output_type": "stream",
     "text": [
      "+---+---------+------+------+---------+\n",
      "| id|     name|gender|salary|     Dept|\n",
      "+---+---------+------+------+---------+\n",
      "|  1|     srik|  male|  2000|       IT|\n",
      "|  2|     manu|  male|  3000|Marketing|\n",
      "|  2|     manu|  male|  3000|Marketing|\n",
      "|  3|akshainie|female|  3500|  Finance|\n",
      "|  4|  Sandhya|Female|  4000|Marketing|\n",
      "+---+---------+------+------+---------+\n",
      "\n"
     ]
    }
   ],
   "source": [
    "newdf = df.union(df1)\n",
    "newdf.show()"
   ]
  },
  {
   "cell_type": "code",
   "execution_count": 8,
   "id": "aac1de94",
   "metadata": {},
   "outputs": [
    {
     "name": "stdout",
     "output_type": "stream",
     "text": [
      "+---+---------+------+------+---------+\n",
      "| id|     name|gender|salary|     Dept|\n",
      "+---+---------+------+------+---------+\n",
      "|  1|     srik|  male|  2000|       IT|\n",
      "|  2|     manu|  male|  3000|Marketing|\n",
      "|  2|     manu|  male|  3000|Marketing|\n",
      "|  3|akshainie|female|  3500|  Finance|\n",
      "|  4|  Sandhya|Female|  4000|Marketing|\n",
      "+---+---------+------+------+---------+\n",
      "\n"
     ]
    }
   ],
   "source": [
    "newdf1 =  df.unionAll(df1)\n",
    "newdf1.show()"
   ]
  },
  {
   "cell_type": "code",
   "execution_count": 9,
   "id": "f4a71487",
   "metadata": {},
   "outputs": [
    {
     "name": "stdout",
     "output_type": "stream",
     "text": [
      "+---+----+------+------+---------+\n",
      "| id|name|gender|salary|     Dept|\n",
      "+---+----+------+------+---------+\n",
      "|  1|srik|  male|  2000|       IT|\n",
      "|  2|manu|  male|  3000|Marketing|\n",
      "+---+----+------+------+---------+\n",
      "\n"
     ]
    }
   ],
   "source": [
    "df.distinct().show()"
   ]
  },
  {
   "cell_type": "code",
   "execution_count": null,
   "id": "e28c2de0",
   "metadata": {},
   "outputs": [],
   "source": []
  }
 ],
 "metadata": {
  "kernelspec": {
   "display_name": "Python 3 (ipykernel)",
   "language": "python",
   "name": "python3"
  },
  "language_info": {
   "codemirror_mode": {
    "name": "ipython",
    "version": 3
   },
   "file_extension": ".py",
   "mimetype": "text/x-python",
   "name": "python",
   "nbconvert_exporter": "python",
   "pygments_lexer": "ipython3",
   "version": "3.9.13"
  }
 },
 "nbformat": 4,
 "nbformat_minor": 5
}
