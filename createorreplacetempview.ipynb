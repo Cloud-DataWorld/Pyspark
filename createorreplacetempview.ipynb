{
 "cells": [
  {
   "cell_type": "code",
   "execution_count": 1,
   "id": "615ed4ba",
   "metadata": {},
   "outputs": [],
   "source": [
    "import findspark\n",
    "\n",
    "findspark.init()\n",
    "\n",
    "from pyspark.sql import SparkSession\n",
    "\n",
    "spark = SparkSession.builder.getOrCreate()"
   ]
  },
  {
   "cell_type": "code",
   "execution_count": 2,
   "id": "ca1ed9bb",
   "metadata": {},
   "outputs": [
    {
     "name": "stdout",
     "output_type": "stream",
     "text": [
      "+---+---------+------+\n",
      "| ID|     NAME|SALARY|\n",
      "+---+---------+------+\n",
      "|  1| Srikanth| 20000|\n",
      "|  2|Akshainie| 30000|\n",
      "|  3|  Manvith| 40000|\n",
      "+---+---------+------+\n",
      "\n"
     ]
    }
   ],
   "source": [
    "data = [(1,'Srikanth',20000),(2,'Akshainie',30000),(3,'Manvith',40000)]\n",
    "\n",
    "schema = ['ID',\"NAME\",'SALARY']\n",
    "\n",
    "\n",
    "df = spark.createDataFrame(data, schema)\n",
    "\n",
    "df.show()"
   ]
  },
  {
   "cell_type": "code",
   "execution_count": 3,
   "id": "17e13ed3",
   "metadata": {},
   "outputs": [
    {
     "name": "stdout",
     "output_type": "stream",
     "text": [
      "+---+---------+\n",
      "| ID|     NAME|\n",
      "+---+---------+\n",
      "|  1| Srikanth|\n",
      "|  2|Akshainie|\n",
      "|  3|  Manvith|\n",
      "+---+---------+\n",
      "\n"
     ]
    }
   ],
   "source": [
    "df.select('ID','NAME').show()"
   ]
  },
  {
   "cell_type": "code",
   "execution_count": 4,
   "id": "41903d78",
   "metadata": {},
   "outputs": [
    {
     "name": "stdout",
     "output_type": "stream",
     "text": [
      "Help on method createOrReplaceTempView in module pyspark.sql.dataframe:\n",
      "\n",
      "createOrReplaceTempView(name) method of pyspark.sql.dataframe.DataFrame instance\n",
      "    Creates or replaces a local temporary view with this :class:`DataFrame`.\n",
      "    \n",
      "    The lifetime of this temporary table is tied to the :class:`SparkSession`\n",
      "    that was used to create this :class:`DataFrame`.\n",
      "    \n",
      "    .. versionadded:: 2.0.0\n",
      "    \n",
      "    Examples\n",
      "    --------\n",
      "    >>> df.createOrReplaceTempView(\"people\")\n",
      "    >>> df2 = df.filter(df.age > 3)\n",
      "    >>> df2.createOrReplaceTempView(\"people\")\n",
      "    >>> df3 = spark.sql(\"select * from people\")\n",
      "    >>> sorted(df3.collect()) == sorted(df2.collect())\n",
      "    True\n",
      "    >>> spark.catalog.dropTempView(\"people\")\n",
      "\n"
     ]
    }
   ],
   "source": [
    "help(df.createOrReplaceTempView)"
   ]
  },
  {
   "cell_type": "code",
   "execution_count": 5,
   "id": "9e06041b",
   "metadata": {},
   "outputs": [
    {
     "name": "stdout",
     "output_type": "stream",
     "text": [
      "+---+---------+------+\n",
      "| ID|     NAME|SALARY|\n",
      "+---+---------+------+\n",
      "|  1| Srikanth| 20000|\n",
      "|  2|Akshainie| 30000|\n",
      "|  3|  Manvith| 40000|\n",
      "+---+---------+------+\n",
      "\n"
     ]
    }
   ],
   "source": [
    "df.createOrReplaceTempView('Test')\n",
    "\n",
    "spark.sql('select * from Test').show()"
   ]
  },
  {
   "cell_type": "code",
   "execution_count": 13,
   "id": "69949e5d",
   "metadata": {},
   "outputs": [
    {
     "name": "stdout",
     "output_type": "stream",
     "text": [
      "+---+---------+\n",
      "| ID|     Name|\n",
      "+---+---------+\n",
      "|  1| SRIKANTH|\n",
      "|  2|AKSHAINIE|\n",
      "|  3|  MANVITH|\n",
      "+---+---------+\n",
      "\n"
     ]
    }
   ],
   "source": [
    "df2 = spark.sql(\"select ID,upper(NAME) as Name  from Test\")\n",
    "\n",
    "df2.show()"
   ]
  },
  {
   "cell_type": "code",
   "execution_count": 15,
   "id": "04532a08",
   "metadata": {},
   "outputs": [
    {
     "name": "stdout",
     "output_type": "stream",
     "text": [
      "+---+---------+------+\n",
      "| ID|     NAME|SALARY|\n",
      "+---+---------+------+\n",
      "|  1| Srikanth| 20000|\n",
      "|  2|Akshainie| 30000|\n",
      "|  3|  Manvith| 40000|\n",
      "+---+---------+------+\n",
      "\n"
     ]
    }
   ],
   "source": [
    "df.createOrReplaceGlobalTempView('globaltemp')\n",
    "\n",
    "spark.sql('select * from global_temp.globaltemp').show()"
   ]
  },
  {
   "cell_type": "code",
   "execution_count": 16,
   "id": "998bccbf",
   "metadata": {},
   "outputs": [
    {
     "data": {
      "text/plain": [
       "'default'"
      ]
     },
     "execution_count": 16,
     "metadata": {},
     "output_type": "execute_result"
    }
   ],
   "source": [
    "spark.catalog.currentDatabase()"
   ]
  },
  {
   "cell_type": "code",
   "execution_count": 17,
   "id": "264f5c85",
   "metadata": {},
   "outputs": [
    {
     "data": {
      "text/plain": [
       "[Table(name='test', database=None, description=None, tableType='TEMPORARY', isTemporary=True)]"
      ]
     },
     "execution_count": 17,
     "metadata": {},
     "output_type": "execute_result"
    }
   ],
   "source": [
    "spark.catalog.listTables('default')"
   ]
  },
  {
   "cell_type": "code",
   "execution_count": null,
   "id": "036654d2",
   "metadata": {},
   "outputs": [],
   "source": [
    "spark.catalog.dropGlobalTempView('test')\n",
    "\n",
    "spark.catalog.dropTempView('test')"
   ]
  }
 ],
 "metadata": {
  "kernelspec": {
   "display_name": "Python 3 (ipykernel)",
   "language": "python",
   "name": "python3"
  },
  "language_info": {
   "codemirror_mode": {
    "name": "ipython",
    "version": 3
   },
   "file_extension": ".py",
   "mimetype": "text/x-python",
   "name": "python",
   "nbconvert_exporter": "python",
   "pygments_lexer": "ipython3",
   "version": "3.9.13"
  }
 },
 "nbformat": 4,
 "nbformat_minor": 5
}
