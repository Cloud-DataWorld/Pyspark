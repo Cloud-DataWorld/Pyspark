{
 "cells": [
  {
   "cell_type": "code",
   "execution_count": 1,
   "id": "65dd4a54",
   "metadata": {},
   "outputs": [],
   "source": [
    "import findspark\n",
    "\n",
    "findspark.init()\n",
    "\n",
    "from pyspark.sql import SparkSession\n",
    "\n",
    "spark = SparkSession.builder.getOrCreate()"
   ]
  },
  {
   "cell_type": "code",
   "execution_count": 3,
   "id": "904e05b8",
   "metadata": {},
   "outputs": [
    {
     "name": "stdout",
     "output_type": "stream",
     "text": [
      "+---+------+------+\n",
      "| id|  name|salary|\n",
      "+---+------+------+\n",
      "|  1|Maheer|  2000|\n",
      "|  2|  wafa|  3000|\n",
      "+---+------+------+\n",
      "\n"
     ]
    }
   ],
   "source": [
    "data = [(1,'Maheer',2000),(2,'wafa',3000)]\n",
    "\n",
    "schema = ['id','name','salary']\n",
    "\n",
    "df = spark.createDataFrame(data,schema)\n",
    "\n",
    "df.show()"
   ]
  },
  {
   "cell_type": "code",
   "execution_count": 4,
   "id": "3be0cc16",
   "metadata": {},
   "outputs": [
    {
     "name": "stdout",
     "output_type": "stream",
     "text": [
      "+---+\n",
      "| id|\n",
      "+---+\n",
      "|  1|\n",
      "|  2|\n",
      "+---+\n",
      "\n"
     ]
    }
   ],
   "source": [
    "df1 = df.select('id')\n",
    "\n",
    "df1.show()"
   ]
  },
  {
   "cell_type": "code",
   "execution_count": 5,
   "id": "cf68da22",
   "metadata": {},
   "outputs": [
    {
     "name": "stdout",
     "output_type": "stream",
     "text": [
      "Help on method collect in module pyspark.sql.dataframe:\n",
      "\n",
      "collect() method of pyspark.sql.dataframe.DataFrame instance\n",
      "    Returns all the records as a list of :class:`Row`.\n",
      "    \n",
      "    .. versionadded:: 1.3.0\n",
      "    \n",
      "    Examples\n",
      "    --------\n",
      "    >>> df.collect()\n",
      "    [Row(age=2, name='Alice'), Row(age=5, name='Bob')]\n",
      "\n"
     ]
    }
   ],
   "source": [
    "help(df.collect)"
   ]
  },
  {
   "cell_type": "code",
   "execution_count": 9,
   "id": "c8ba8494",
   "metadata": {},
   "outputs": [
    {
     "name": "stdout",
     "output_type": "stream",
     "text": [
      "[Row(id=1, name='Maheer', salary=2000), Row(id=2, name='wafa', salary=3000)]\n"
     ]
    }
   ],
   "source": [
    "listRows= df.collect()\n",
    "\n",
    "print(listRows)"
   ]
  },
  {
   "cell_type": "code",
   "execution_count": 10,
   "id": "89368ab8",
   "metadata": {},
   "outputs": [
    {
     "name": "stdout",
     "output_type": "stream",
     "text": [
      "Row(id=1, name='Maheer', salary=2000)\n"
     ]
    }
   ],
   "source": [
    "print(listRows[0])"
   ]
  },
  {
   "cell_type": "code",
   "execution_count": 13,
   "id": "4b12fc38",
   "metadata": {},
   "outputs": [
    {
     "name": "stdout",
     "output_type": "stream",
     "text": [
      "Maheer\n",
      "1\n"
     ]
    }
   ],
   "source": [
    "print(listRows[0][1])\n",
    "print(listRows[0][0])"
   ]
  },
  {
   "cell_type": "code",
   "execution_count": null,
   "id": "ce70f4cf",
   "metadata": {},
   "outputs": [],
   "source": []
  }
 ],
 "metadata": {
  "kernelspec": {
   "display_name": "Python 3 (ipykernel)",
   "language": "python",
   "name": "python3"
  },
  "language_info": {
   "codemirror_mode": {
    "name": "ipython",
    "version": 3
   },
   "file_extension": ".py",
   "mimetype": "text/x-python",
   "name": "python",
   "nbconvert_exporter": "python",
   "pygments_lexer": "ipython3",
   "version": "3.9.13"
  }
 },
 "nbformat": 4,
 "nbformat_minor": 5
}
